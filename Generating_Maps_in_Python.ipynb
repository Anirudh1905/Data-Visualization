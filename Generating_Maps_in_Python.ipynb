{
  "nbformat": 4,
  "nbformat_minor": 0,
  "metadata": {
    "kernelspec": {
      "display_name": "Python 3",
      "language": "python",
      "name": "python3"
    },
    "language_info": {
      "codemirror_mode": {
        "name": "ipython",
        "version": 3
      },
      "file_extension": ".py",
      "mimetype": "text/x-python",
      "name": "python",
      "nbconvert_exporter": "python",
      "pygments_lexer": "ipython3",
      "version": "3.7.4"
    },
    "colab": {
      "name": "Generating-Maps-in-Python.ipynb",
      "provenance": [],
      "collapsed_sections": [],
      "toc_visible": true,
      "include_colab_link": true
    }
  },
  "cells": [
    {
      "cell_type": "markdown",
      "metadata": {
        "id": "view-in-github",
        "colab_type": "text"
      },
      "source": [
        "<a href=\"https://colab.research.google.com/github/Anirudh1905/Data-Visualization/blob/master/Generating_Maps_in_Python.ipynb\" target=\"_parent\"><img src=\"https://colab.research.google.com/assets/colab-badge.svg\" alt=\"Open In Colab\"/></a>"
      ]
    },
    {
      "cell_type": "markdown",
      "metadata": {
        "button": false,
        "new_sheet": false,
        "run_control": {
          "read_only": false
        },
        "id": "QMET0cgvjoFo",
        "colab_type": "text"
      },
      "source": [
        "# Exploring Datasets with *pandas* and Matplotlib<a id=\"0\"></a>\n",
        "\n",
        "Toolkits: This lab heavily relies on [*pandas*](http://pandas.pydata.org/) and [**Numpy**](http://www.numpy.org/) for data wrangling, analysis, and visualization. The primary plotting library we will explore in this lab is [**Folium**](https://github.com/python-visualization/folium/).\n",
        "\n",
        "Datasets: \n",
        "\n",
        "1. San Francisco Police Department Incidents for the year 2016 - [Police Department Incidents](https://data.sfgov.org/Public-Safety/Police-Department-Incidents-Previous-Year-2016-/ritf-b9ki) from San Francisco public data portal. Incidents derived from San Francisco Police Department (SFPD) Crime Incident Reporting system. Updated daily, showing data for the entire year of 2016. Address and location has been anonymized by moving to mid-block or to an intersection.    \n",
        "\n",
        "2. Immigration to Canada from 1980 to 2013 - [International migration flows to and from selected countries - The 2015 revision](http://www.un.org/en/development/desa/population/migration/data/empirical2/migrationflows.shtml) from United Nation's website. The dataset contains annual data on the flows of international migrants as recorded by the countries of destination. The data presents both inflows and outflows according to the place of birth, citizenship or place of previous / next residence both for foreigners and nationals. For this lesson, we will focus on the Canadian Immigration data"
      ]
    },
    {
      "cell_type": "markdown",
      "metadata": {
        "button": false,
        "new_sheet": false,
        "run_control": {
          "read_only": false
        },
        "id": "Kckl1uJVjoFs",
        "colab_type": "text"
      },
      "source": [
        "# Downloading and Prepping Data <a id=\"2\"></a>"
      ]
    },
    {
      "cell_type": "markdown",
      "metadata": {
        "button": false,
        "new_sheet": false,
        "run_control": {
          "read_only": false
        },
        "id": "vDkZ9b9GjoFt",
        "colab_type": "text"
      },
      "source": [
        "Import Primary Modules:"
      ]
    },
    {
      "cell_type": "code",
      "metadata": {
        "button": false,
        "new_sheet": false,
        "run_control": {
          "read_only": false
        },
        "id": "8Mo0HuNujoFu",
        "colab_type": "code",
        "colab": {}
      },
      "source": [
        "import numpy as np  # useful for many scientific computing in Python\n",
        "import pandas as pd # primary data structure library"
      ],
      "execution_count": 0,
      "outputs": []
    },
    {
      "cell_type": "markdown",
      "metadata": {
        "button": false,
        "new_sheet": false,
        "run_control": {
          "read_only": false
        },
        "id": "7bz2MNlwjoFz",
        "colab_type": "text"
      },
      "source": [
        "# Introduction to Folium <a id=\"4\"></a>"
      ]
    },
    {
      "cell_type": "markdown",
      "metadata": {
        "button": false,
        "new_sheet": false,
        "run_control": {
          "read_only": false
        },
        "id": "a1ljVTtujoF0",
        "colab_type": "text"
      },
      "source": [
        "Folium is a powerful Python library that helps you create several types of Leaflet maps. The fact that the Folium results are interactive makes this library very useful for dashboard building.\n",
        "\n",
        "From the official Folium documentation page:\n",
        "\n",
        "> Folium builds on the data wrangling strengths of the Python ecosystem and the mapping strengths of the Leaflet.js library. Manipulate your data in Python, then visualize it in on a Leaflet map via Folium.\n",
        "\n",
        "> Folium makes it easy to visualize data that's been manipulated in Python on an interactive Leaflet map. It enables both the binding of data to a map for choropleth visualizations as well as passing Vincent/Vega visualizations as markers on the map.\n",
        "\n",
        "> The library has a number of built-in tilesets from OpenStreetMap, Mapbox, and Stamen, and supports custom tilesets with Mapbox or Cloudmade API keys. Folium supports both GeoJSON and TopoJSON overlays, as well as the binding of data to those overlays to create choropleth maps with color-brewer color schemes."
      ]
    },
    {
      "cell_type": "markdown",
      "metadata": {
        "button": false,
        "new_sheet": false,
        "run_control": {
          "read_only": false
        },
        "id": "15MR9NL3joF1",
        "colab_type": "text"
      },
      "source": [
        "#### Let's install **Folium**"
      ]
    },
    {
      "cell_type": "markdown",
      "metadata": {
        "button": false,
        "new_sheet": false,
        "run_control": {
          "read_only": false
        },
        "id": "Gtxl28XxjoF2",
        "colab_type": "text"
      },
      "source": [
        "**Folium** is not available by default. So, we first need to install it before we are able to import it."
      ]
    },
    {
      "cell_type": "code",
      "metadata": {
        "button": false,
        "jupyter": {
          "outputs_hidden": false
        },
        "new_sheet": false,
        "run_control": {
          "read_only": false
        },
        "id": "seFXcefQjoF4",
        "colab_type": "code",
        "colab": {
          "base_uri": "https://localhost:8080/",
          "height": 51
        },
        "outputId": "d1b2b17c-1238-45a1-fa6b-8abf0934e4ef"
      },
      "source": [
        "!conda install -c conda-forge folium=0.5.0 --yes\n",
        "import folium\n",
        "\n",
        "print('Folium installed and imported!')"
      ],
      "execution_count": 20,
      "outputs": [
        {
          "output_type": "stream",
          "text": [
            "/bin/bash: conda: command not found\n",
            "Folium installed and imported!\n"
          ],
          "name": "stdout"
        }
      ]
    },
    {
      "cell_type": "markdown",
      "metadata": {
        "button": false,
        "new_sheet": false,
        "run_control": {
          "read_only": false
        },
        "id": "-tXWUASujoF_",
        "colab_type": "text"
      },
      "source": [
        "Generating the world map is straigtforward in **Folium**. You simply create a **Folium** *Map* object and then you display it. What is attactive about **Folium** maps is that they are interactive, so you can zoom into any region of interest despite the initial zoom level. "
      ]
    },
    {
      "cell_type": "code",
      "metadata": {
        "button": false,
        "jupyter": {
          "outputs_hidden": false
        },
        "new_sheet": false,
        "run_control": {
          "read_only": false
        },
        "scrolled": true,
        "id": "xuWSKKWpjoGA",
        "colab_type": "code",
        "colab": {
          "base_uri": "https://localhost:8080/",
          "height": 992
        },
        "outputId": "b2afc0ec-2f46-4054-94fd-7e836dd22929"
      },
      "source": [
        "# define the world map\n",
        "world_map = folium.Map()\n",
        "\n",
        "# display world map\n",
        "world_map"
      ],
      "execution_count": 21,
      "outputs": [
        {
          "output_type": "execute_result",
          "data": {
            "text/html": [
              "<div style=\"width:100%;\"><div style=\"position:relative;width:100%;height:0;padding-bottom:60%;\"><iframe src=\"about:blank\" style=\"position:absolute;width:100%;height:100%;left:0;top:0;border:none !important;\" data-html=PCFET0NUWVBFIGh0bWw+CjxoZWFkPiAgICAKICAgIDxtZXRhIGh0dHAtZXF1aXY9ImNvbnRlbnQtdHlwZSIgY29udGVudD0idGV4dC9odG1sOyBjaGFyc2V0PVVURi04IiAvPgogICAgPHNjcmlwdD5MX1BSRUZFUl9DQU5WQVM9ZmFsc2U7IExfTk9fVE9VQ0g9ZmFsc2U7IExfRElTQUJMRV8zRD1mYWxzZTs8L3NjcmlwdD4KICAgIDxzY3JpcHQgc3JjPSJodHRwczovL2Nkbi5qc2RlbGl2ci5uZXQvbnBtL2xlYWZsZXRAMS40LjAvZGlzdC9sZWFmbGV0LmpzIj48L3NjcmlwdD4KICAgIDxzY3JpcHQgc3JjPSJodHRwczovL2NvZGUuanF1ZXJ5LmNvbS9qcXVlcnktMS4xMi40Lm1pbi5qcyI+PC9zY3JpcHQ+CiAgICA8c2NyaXB0IHNyYz0iaHR0cHM6Ly9tYXhjZG4uYm9vdHN0cmFwY2RuLmNvbS9ib290c3RyYXAvMy4yLjAvanMvYm9vdHN0cmFwLm1pbi5qcyI+PC9zY3JpcHQ+CiAgICA8c2NyaXB0IHNyYz0iaHR0cHM6Ly9jZG5qcy5jbG91ZGZsYXJlLmNvbS9hamF4L2xpYnMvTGVhZmxldC5hd2Vzb21lLW1hcmtlcnMvMi4wLjIvbGVhZmxldC5hd2Vzb21lLW1hcmtlcnMuanMiPjwvc2NyaXB0PgogICAgPGxpbmsgcmVsPSJzdHlsZXNoZWV0IiBocmVmPSJodHRwczovL2Nkbi5qc2RlbGl2ci5uZXQvbnBtL2xlYWZsZXRAMS40LjAvZGlzdC9sZWFmbGV0LmNzcyIvPgogICAgPGxpbmsgcmVsPSJzdHlsZXNoZWV0IiBocmVmPSJodHRwczovL21heGNkbi5ib290c3RyYXBjZG4uY29tL2Jvb3RzdHJhcC8zLjIuMC9jc3MvYm9vdHN0cmFwLm1pbi5jc3MiLz4KICAgIDxsaW5rIHJlbD0ic3R5bGVzaGVldCIgaHJlZj0iaHR0cHM6Ly9tYXhjZG4uYm9vdHN0cmFwY2RuLmNvbS9ib290c3RyYXAvMy4yLjAvY3NzL2Jvb3RzdHJhcC10aGVtZS5taW4uY3NzIi8+CiAgICA8bGluayByZWw9InN0eWxlc2hlZXQiIGhyZWY9Imh0dHBzOi8vbWF4Y2RuLmJvb3RzdHJhcGNkbi5jb20vZm9udC1hd2Vzb21lLzQuNi4zL2Nzcy9mb250LWF3ZXNvbWUubWluLmNzcyIvPgogICAgPGxpbmsgcmVsPSJzdHlsZXNoZWV0IiBocmVmPSJodHRwczovL2NkbmpzLmNsb3VkZmxhcmUuY29tL2FqYXgvbGlicy9MZWFmbGV0LmF3ZXNvbWUtbWFya2Vycy8yLjAuMi9sZWFmbGV0LmF3ZXNvbWUtbWFya2Vycy5jc3MiLz4KICAgIDxsaW5rIHJlbD0ic3R5bGVzaGVldCIgaHJlZj0iaHR0cHM6Ly9yYXdjZG4uZ2l0aGFjay5jb20vcHl0aG9uLXZpc3VhbGl6YXRpb24vZm9saXVtL21hc3Rlci9mb2xpdW0vdGVtcGxhdGVzL2xlYWZsZXQuYXdlc29tZS5yb3RhdGUuY3NzIi8+CiAgICA8c3R5bGU+aHRtbCwgYm9keSB7d2lkdGg6IDEwMCU7aGVpZ2h0OiAxMDAlO21hcmdpbjogMDtwYWRkaW5nOiAwO308L3N0eWxlPgogICAgPHN0eWxlPiNtYXAge3Bvc2l0aW9uOmFic29sdXRlO3RvcDowO2JvdHRvbTowO3JpZ2h0OjA7bGVmdDowO308L3N0eWxlPgogICAgCiAgICA8bWV0YSBuYW1lPSJ2aWV3cG9ydCIgY29udGVudD0id2lkdGg9ZGV2aWNlLXdpZHRoLAogICAgICAgIGluaXRpYWwtc2NhbGU9MS4wLCBtYXhpbXVtLXNjYWxlPTEuMCwgdXNlci1zY2FsYWJsZT1ubyIgLz4KICAgIDxzdHlsZT4jbWFwX2EyNGEzZTQzYWFmMzQ4MTViYzQzNWNlMWQ1ZmY0ZWIwIHsKICAgICAgICBwb3NpdGlvbjogcmVsYXRpdmU7CiAgICAgICAgd2lkdGg6IDEwMC4wJTsKICAgICAgICBoZWlnaHQ6IDEwMC4wJTsKICAgICAgICBsZWZ0OiAwLjAlOwogICAgICAgIHRvcDogMC4wJTsKICAgICAgICB9CiAgICA8L3N0eWxlPgo8L2hlYWQ+Cjxib2R5PiAgICAKICAgIAogICAgPGRpdiBjbGFzcz0iZm9saXVtLW1hcCIgaWQ9Im1hcF9hMjRhM2U0M2FhZjM0ODE1YmM0MzVjZTFkNWZmNGViMCIgPjwvZGl2Pgo8L2JvZHk+CjxzY3JpcHQ+ICAgIAogICAgCiAgICAKICAgICAgICB2YXIgYm91bmRzID0gbnVsbDsKICAgIAoKICAgIHZhciBtYXBfYTI0YTNlNDNhYWYzNDgxNWJjNDM1Y2UxZDVmZjRlYjAgPSBMLm1hcCgKICAgICAgICAnbWFwX2EyNGEzZTQzYWFmMzQ4MTViYzQzNWNlMWQ1ZmY0ZWIwJywgewogICAgICAgIGNlbnRlcjogWzAsIDBdLAogICAgICAgIHpvb206IDEsCiAgICAgICAgbWF4Qm91bmRzOiBib3VuZHMsCiAgICAgICAgbGF5ZXJzOiBbXSwKICAgICAgICB3b3JsZENvcHlKdW1wOiBmYWxzZSwKICAgICAgICBjcnM6IEwuQ1JTLkVQU0czODU3LAogICAgICAgIHpvb21Db250cm9sOiB0cnVlLAogICAgICAgIH0pOwoKCiAgICAKICAgIHZhciB0aWxlX2xheWVyX2QyZDU3M2Q5ZjM2MDRjNGZiNWEzZGQ4YWQ2ODZiOWQxID0gTC50aWxlTGF5ZXIoCiAgICAgICAgJ2h0dHBzOi8ve3N9LnRpbGUub3BlbnN0cmVldG1hcC5vcmcve3p9L3t4fS97eX0ucG5nJywKICAgICAgICB7CiAgICAgICAgImF0dHJpYnV0aW9uIjogbnVsbCwKICAgICAgICAiZGV0ZWN0UmV0aW5hIjogZmFsc2UsCiAgICAgICAgIm1heE5hdGl2ZVpvb20iOiAxOCwKICAgICAgICAibWF4Wm9vbSI6IDE4LAogICAgICAgICJtaW5ab29tIjogMCwKICAgICAgICAibm9XcmFwIjogZmFsc2UsCiAgICAgICAgIm9wYWNpdHkiOiAxLAogICAgICAgICJzdWJkb21haW5zIjogImFiYyIsCiAgICAgICAgInRtcyI6IGZhbHNlCn0pLmFkZFRvKG1hcF9hMjRhM2U0M2FhZjM0ODE1YmM0MzVjZTFkNWZmNGViMCk7Cjwvc2NyaXB0Pg== onload=\"this.contentDocument.open();this.contentDocument.write(atob(this.getAttribute('data-html')));this.contentDocument.close();\" allowfullscreen webkitallowfullscreen mozallowfullscreen></iframe></div></div>"
            ],
            "text/plain": [
              "<folium.folium.Map at 0x7fc7638bd748>"
            ]
          },
          "metadata": {
            "tags": []
          },
          "execution_count": 21
        }
      ]
    },
    {
      "cell_type": "markdown",
      "metadata": {
        "button": false,
        "new_sheet": false,
        "run_control": {
          "read_only": false
        },
        "id": "DaJwTbpojoGE",
        "colab_type": "text"
      },
      "source": [
        "Go ahead. Try zooming in and out of the rendered map above."
      ]
    },
    {
      "cell_type": "markdown",
      "metadata": {
        "button": false,
        "new_sheet": false,
        "run_control": {
          "read_only": false
        },
        "id": "mdQ-yz4VjoGF",
        "colab_type": "text"
      },
      "source": [
        "You can customize this default definition of the world map by specifying the centre of your map and the intial zoom level. \n",
        "\n",
        "All locations on a map are defined by their respective *Latitude* and *Longitude* values. So you can create a map and pass in a center of *Latitude* and *Longitude* values of **[0, 0]**. \n",
        "\n",
        "For a defined center, you can also define the intial zoom level into that location when the map is rendered. **The higher the zoom level the more the map is zoomed into the center**.\n",
        "\n",
        "Let's create a map centered around Canada and play with the zoom level to see how it affects the rendered map."
      ]
    },
    {
      "cell_type": "code",
      "metadata": {
        "button": false,
        "jupyter": {
          "outputs_hidden": false
        },
        "new_sheet": false,
        "run_control": {
          "read_only": false
        },
        "id": "QXnn0wxnjoGG",
        "colab_type": "code",
        "colab": {
          "base_uri": "https://localhost:8080/",
          "height": 992
        },
        "outputId": "3e67d9e2-b0a2-40bf-fc07-8e5f4101f345"
      },
      "source": [
        "# define the world map centered around Canada with a low zoom level\n",
        "world_map = folium.Map(location=[56.130, -106.35], zoom_start=4)\n",
        "\n",
        "# display world map\n",
        "world_map"
      ],
      "execution_count": 22,
      "outputs": [
        {
          "output_type": "execute_result",
          "data": {
            "text/html": [
              "<div style=\"width:100%;\"><div style=\"position:relative;width:100%;height:0;padding-bottom:60%;\"><iframe src=\"about:blank\" style=\"position:absolute;width:100%;height:100%;left:0;top:0;border:none !important;\" data-html=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 onload=\"this.contentDocument.open();this.contentDocument.write(atob(this.getAttribute('data-html')));this.contentDocument.close();\" allowfullscreen webkitallowfullscreen mozallowfullscreen></iframe></div></div>"
            ],
            "text/plain": [
              "<folium.folium.Map at 0x7fc7638cd2e8>"
            ]
          },
          "metadata": {
            "tags": []
          },
          "execution_count": 22
        }
      ]
    },
    {
      "cell_type": "markdown",
      "metadata": {
        "button": false,
        "new_sheet": false,
        "run_control": {
          "read_only": false
        },
        "id": "S9V6RV9gjoGM",
        "colab_type": "text"
      },
      "source": [
        "Let's create the map again with a higher zoom level"
      ]
    },
    {
      "cell_type": "code",
      "metadata": {
        "button": false,
        "jupyter": {
          "outputs_hidden": false
        },
        "new_sheet": false,
        "run_control": {
          "read_only": false
        },
        "id": "Wu6BJjwXjoGM",
        "colab_type": "code",
        "colab": {
          "base_uri": "https://localhost:8080/",
          "height": 992
        },
        "outputId": "4a9d8cd0-6494-4aa0-de98-cbfa3b6d2636"
      },
      "source": [
        "# define the world map centered around Canada with a higher zoom level\n",
        "world_map = folium.Map(location=[56.130, -106.35], zoom_start=8)\n",
        "\n",
        "# display world map\n",
        "world_map"
      ],
      "execution_count": 23,
      "outputs": [
        {
          "output_type": "execute_result",
          "data": {
            "text/html": [
              "<div style=\"width:100%;\"><div style=\"position:relative;width:100%;height:0;padding-bottom:60%;\"><iframe src=\"about:blank\" style=\"position:absolute;width:100%;height:100%;left:0;top:0;border:none !important;\" data-html=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 onload=\"this.contentDocument.open();this.contentDocument.write(atob(this.getAttribute('data-html')));this.contentDocument.close();\" allowfullscreen webkitallowfullscreen mozallowfullscreen></iframe></div></div>"
            ],
            "text/plain": [
              "<folium.folium.Map at 0x7fc7638cdac8>"
            ]
          },
          "metadata": {
            "tags": []
          },
          "execution_count": 23
        }
      ]
    },
    {
      "cell_type": "markdown",
      "metadata": {
        "button": false,
        "new_sheet": false,
        "run_control": {
          "read_only": false
        },
        "id": "h56XTo2sjoGT",
        "colab_type": "text"
      },
      "source": [
        "As you can see, the higher the zoom level the more the map is zoomed into the given center."
      ]
    },
    {
      "cell_type": "markdown",
      "metadata": {
        "button": false,
        "new_sheet": false,
        "run_control": {
          "read_only": false
        },
        "id": "AX-RZL87joGU",
        "colab_type": "text"
      },
      "source": [
        "**Question**: Create a map of Mexico with a zoom level of 4."
      ]
    },
    {
      "cell_type": "code",
      "metadata": {
        "button": false,
        "jupyter": {
          "outputs_hidden": false
        },
        "new_sheet": false,
        "run_control": {
          "read_only": false
        },
        "id": "RAfY3p2OjoGU",
        "colab_type": "code",
        "colab": {
          "base_uri": "https://localhost:8080/",
          "height": 992
        },
        "outputId": "ae9ca601-58c8-4cd5-8077-8e6141f40436"
      },
      "source": [
        "### type your answer here\n",
        "mexico_map=folium.Map(location=[23.6345,-102.5528],zoom_start=5)\n",
        "mexico_map"
      ],
      "execution_count": 24,
      "outputs": [
        {
          "output_type": "execute_result",
          "data": {
            "text/html": [
              "<div style=\"width:100%;\"><div style=\"position:relative;width:100%;height:0;padding-bottom:60%;\"><iframe src=\"about:blank\" style=\"position:absolute;width:100%;height:100%;left:0;top:0;border:none !important;\" data-html=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 onload=\"this.contentDocument.open();this.contentDocument.write(atob(this.getAttribute('data-html')));this.contentDocument.close();\" allowfullscreen webkitallowfullscreen mozallowfullscreen></iframe></div></div>"
            ],
            "text/plain": [
              "<folium.folium.Map at 0x7fc7638d7278>"
            ]
          },
          "metadata": {
            "tags": []
          },
          "execution_count": 24
        }
      ]
    },
    {
      "cell_type": "markdown",
      "metadata": {
        "button": false,
        "new_sheet": false,
        "run_control": {
          "read_only": false
        },
        "id": "zbNDi0R3joGX",
        "colab_type": "text"
      },
      "source": [
        "Double-click __here__ for the solution.\n",
        "<!-- The correct answer is:\n",
        "\\\\ # define Mexico's geolocation coordinates\n",
        "mexico_latitude = 23.6345 \n",
        "mexico_longitude = -102.5528\n",
        "-->\n",
        "\n",
        "<!--\n",
        "\\\\ # define the world map centered around Canada with a higher zoom level\n",
        "mexico_map = folium.Map(location=[mexico_latitude, mexico_longitude], zoom_start=4)\n",
        "-->\n",
        "\n",
        "<!--\n",
        "\\\\ # display world map\n",
        "mexico_map\n",
        "-->"
      ]
    },
    {
      "cell_type": "markdown",
      "metadata": {
        "button": false,
        "new_sheet": false,
        "run_control": {
          "read_only": false
        },
        "id": "rm-jUKz3joGY",
        "colab_type": "text"
      },
      "source": [
        "Another cool feature of **Folium** is that you can generate different map styles."
      ]
    },
    {
      "cell_type": "markdown",
      "metadata": {
        "button": false,
        "new_sheet": false,
        "run_control": {
          "read_only": false
        },
        "id": "d-pIadVkjoGZ",
        "colab_type": "text"
      },
      "source": [
        "### A. Stamen Toner Maps\n",
        "\n",
        "These are high-contrast B+W (black and white) maps. They are perfect for data mashups and exploring river meanders and coastal zones. "
      ]
    },
    {
      "cell_type": "markdown",
      "metadata": {
        "button": false,
        "new_sheet": false,
        "run_control": {
          "read_only": false
        },
        "id": "UHhjen_WjoGa",
        "colab_type": "text"
      },
      "source": [
        "Let's create a Stamen Toner map of canada with a zoom level of 4."
      ]
    },
    {
      "cell_type": "code",
      "metadata": {
        "button": false,
        "jupyter": {
          "outputs_hidden": false
        },
        "new_sheet": false,
        "run_control": {
          "read_only": false
        },
        "id": "dYOinhKdjoGa",
        "colab_type": "code",
        "colab": {
          "base_uri": "https://localhost:8080/",
          "height": 992
        },
        "outputId": "ce98c79a-a7fa-49e7-a083-1620a1d110a1"
      },
      "source": [
        "# create a Stamen Toner map of the world centered around Canada\n",
        "world_map = folium.Map(location=[56.130, -106.35], zoom_start=4, tiles='Stamen Toner')\n",
        "\n",
        "# display map\n",
        "world_map"
      ],
      "execution_count": 25,
      "outputs": [
        {
          "output_type": "execute_result",
          "data": {
            "text/html": [
              "<div style=\"width:100%;\"><div style=\"position:relative;width:100%;height:0;padding-bottom:60%;\"><iframe src=\"about:blank\" style=\"position:absolute;width:100%;height:100%;left:0;top:0;border:none !important;\" data-html=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 onload=\"this.contentDocument.open();this.contentDocument.write(atob(this.getAttribute('data-html')));this.contentDocument.close();\" allowfullscreen webkitallowfullscreen mozallowfullscreen></iframe></div></div>"
            ],
            "text/plain": [
              "<folium.folium.Map at 0x7fc7638d78d0>"
            ]
          },
          "metadata": {
            "tags": []
          },
          "execution_count": 25
        }
      ]
    },
    {
      "cell_type": "markdown",
      "metadata": {
        "button": false,
        "new_sheet": false,
        "run_control": {
          "read_only": false
        },
        "id": "RpUZ3AlLjoGd",
        "colab_type": "text"
      },
      "source": [
        "Feel free to zoom in and out to see how this style compares to the default one."
      ]
    },
    {
      "cell_type": "markdown",
      "metadata": {
        "button": false,
        "new_sheet": false,
        "run_control": {
          "read_only": false
        },
        "id": "940om1dIjoGe",
        "colab_type": "text"
      },
      "source": [
        "### B. Stamen Terrain Maps\n",
        "\n",
        "These are maps that feature hill shading and natural vegetation colors. They showcase advanced labeling and linework generalization of dual-carriageway roads."
      ]
    },
    {
      "cell_type": "markdown",
      "metadata": {
        "button": false,
        "new_sheet": false,
        "run_control": {
          "read_only": false
        },
        "id": "GejtVA-DjoGe",
        "colab_type": "text"
      },
      "source": [
        "Let's create a Stamen Terrain map of Canada with zoom level 4."
      ]
    },
    {
      "cell_type": "code",
      "metadata": {
        "button": false,
        "jupyter": {
          "outputs_hidden": false
        },
        "new_sheet": false,
        "run_control": {
          "read_only": false
        },
        "id": "DDC5nSORjoGf",
        "colab_type": "code",
        "colab": {
          "base_uri": "https://localhost:8080/",
          "height": 992
        },
        "outputId": "6b29b2c7-ebd5-473f-f47f-1eeb953aa4e8"
      },
      "source": [
        "# create a Stamen Toner map of the world centered around Canada\n",
        "world_map = folium.Map(location=[56.130, -106.35], zoom_start=4, tiles='Stamen Terrain')\n",
        "\n",
        "# display map\n",
        "world_map"
      ],
      "execution_count": 26,
      "outputs": [
        {
          "output_type": "execute_result",
          "data": {
            "text/html": [
              "<div style=\"width:100%;\"><div style=\"position:relative;width:100%;height:0;padding-bottom:60%;\"><iframe src=\"about:blank\" style=\"position:absolute;width:100%;height:100%;left:0;top:0;border:none !important;\" data-html=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 onload=\"this.contentDocument.open();this.contentDocument.write(atob(this.getAttribute('data-html')));this.contentDocument.close();\" allowfullscreen webkitallowfullscreen mozallowfullscreen></iframe></div></div>"
            ],
            "text/plain": [
              "<folium.folium.Map at 0x7fc763864048>"
            ]
          },
          "metadata": {
            "tags": []
          },
          "execution_count": 26
        }
      ]
    },
    {
      "cell_type": "markdown",
      "metadata": {
        "button": false,
        "new_sheet": false,
        "run_control": {
          "read_only": false
        },
        "id": "akaqGEFfjoGi",
        "colab_type": "text"
      },
      "source": [
        "Feel free to zoom in and out to see how this style compares to Stamen Toner and the default style."
      ]
    },
    {
      "cell_type": "markdown",
      "metadata": {
        "button": false,
        "new_sheet": false,
        "run_control": {
          "read_only": false
        },
        "id": "x1BzyHuNjoGj",
        "colab_type": "text"
      },
      "source": [
        "### C. Mapbox Bright Maps\n",
        "\n",
        "These are maps that quite similar to the default style, except that the borders are not visible with a low zoom level. Furthermore, unlike the default style where country names are displayed in each country's native language, *Mapbox Bright* style displays all country names in English."
      ]
    },
    {
      "cell_type": "markdown",
      "metadata": {
        "button": false,
        "new_sheet": false,
        "run_control": {
          "read_only": false
        },
        "id": "_uyCx7r5joGj",
        "colab_type": "text"
      },
      "source": [
        "Let's create a world map with this style."
      ]
    },
    {
      "cell_type": "code",
      "metadata": {
        "button": false,
        "jupyter": {
          "outputs_hidden": false
        },
        "new_sheet": false,
        "run_control": {
          "read_only": false
        },
        "id": "ew_gJxJBjoGk",
        "colab_type": "code",
        "colab": {
          "base_uri": "https://localhost:8080/",
          "height": 992
        },
        "outputId": "ae8771d9-afa5-4600-c347-fcb0e6e2ff20"
      },
      "source": [
        "# create a world map with a Mapbox Bright style.\n",
        "world_map = folium.Map(tiles='Mapbox Bright')\n",
        "\n",
        "# display the map\n",
        "world_map"
      ],
      "execution_count": 27,
      "outputs": [
        {
          "output_type": "execute_result",
          "data": {
            "text/html": [
              "<div style=\"width:100%;\"><div style=\"position:relative;width:100%;height:0;padding-bottom:60%;\"><iframe src=\"about:blank\" style=\"position:absolute;width:100%;height:100%;left:0;top:0;border:none !important;\" data-html=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 onload=\"this.contentDocument.open();this.contentDocument.write(atob(this.getAttribute('data-html')));this.contentDocument.close();\" allowfullscreen webkitallowfullscreen mozallowfullscreen></iframe></div></div>"
            ],
            "text/plain": [
              "<folium.folium.Map at 0x7fc7638d72e8>"
            ]
          },
          "metadata": {
            "tags": []
          },
          "execution_count": 27
        }
      ]
    },
    {
      "cell_type": "markdown",
      "metadata": {
        "button": false,
        "new_sheet": false,
        "run_control": {
          "read_only": false
        },
        "id": "EGZqTlZXjoGm",
        "colab_type": "text"
      },
      "source": [
        "Zoom in and notice how the borders start showing as you zoom in, and the displayed country names are in English."
      ]
    },
    {
      "cell_type": "markdown",
      "metadata": {
        "button": false,
        "new_sheet": false,
        "run_control": {
          "read_only": false
        },
        "id": "JfmFqMA2joGn",
        "colab_type": "text"
      },
      "source": [
        "**Question**: Create a map of Mexico to visualize its hill shading and natural vegetation. Use a zoom level of 6."
      ]
    },
    {
      "cell_type": "code",
      "metadata": {
        "button": false,
        "jupyter": {
          "outputs_hidden": false
        },
        "new_sheet": false,
        "run_control": {
          "read_only": false
        },
        "id": "vLYZwD8ajoGo",
        "colab_type": "code",
        "colab": {
          "base_uri": "https://localhost:8080/",
          "height": 992
        },
        "outputId": "59ec1f4d-4e71-4372-cf0f-1c3e2f628c58"
      },
      "source": [
        "### type your answer here\n",
        "mexico_map=folium.Map(location=[23.6345,-102.5528],zoom_start=6,tiles='Stamen Terrain')\n",
        "mexico_map"
      ],
      "execution_count": 28,
      "outputs": [
        {
          "output_type": "execute_result",
          "data": {
            "text/html": [
              "<div style=\"width:100%;\"><div style=\"position:relative;width:100%;height:0;padding-bottom:60%;\"><iframe src=\"about:blank\" style=\"position:absolute;width:100%;height:100%;left:0;top:0;border:none !important;\" data-html=PCFET0NUWVBFIGh0bWw+CjxoZWFkPiAgICAKICAgIDxtZXRhIGh0dHAtZXF1aXY9ImNvbnRlbnQtdHlwZSIgY29udGVudD0idGV4dC9odG1sOyBjaGFyc2V0PVVURi04IiAvPgogICAgPHNjcmlwdD5MX1BSRUZFUl9DQU5WQVM9ZmFsc2U7IExfTk9fVE9VQ0g9ZmFsc2U7IExfRElTQUJMRV8zRD1mYWxzZTs8L3NjcmlwdD4KICAgIDxzY3JpcHQgc3JjPSJodHRwczovL2Nkbi5qc2RlbGl2ci5uZXQvbnBtL2xlYWZsZXRAMS40LjAvZGlzdC9sZWFmbGV0LmpzIj48L3NjcmlwdD4KICAgIDxzY3JpcHQgc3JjPSJodHRwczovL2NvZGUuanF1ZXJ5LmNvbS9qcXVlcnktMS4xMi40Lm1pbi5qcyI+PC9zY3JpcHQ+CiAgICA8c2NyaXB0IHNyYz0iaHR0cHM6Ly9tYXhjZG4uYm9vdHN0cmFwY2RuLmNvbS9ib290c3RyYXAvMy4yLjAvanMvYm9vdHN0cmFwLm1pbi5qcyI+PC9zY3JpcHQ+CiAgICA8c2NyaXB0IHNyYz0iaHR0cHM6Ly9jZG5qcy5jbG91ZGZsYXJlLmNvbS9hamF4L2xpYnMvTGVhZmxldC5hd2Vzb21lLW1hcmtlcnMvMi4wLjIvbGVhZmxldC5hd2Vzb21lLW1hcmtlcnMuanMiPjwvc2NyaXB0PgogICAgPGxpbmsgcmVsPSJzdHlsZXNoZWV0IiBocmVmPSJodHRwczovL2Nkbi5qc2RlbGl2ci5uZXQvbnBtL2xlYWZsZXRAMS40LjAvZGlzdC9sZWFmbGV0LmNzcyIvPgogICAgPGxpbmsgcmVsPSJzdHlsZXNoZWV0IiBocmVmPSJodHRwczovL21heGNkbi5ib290c3RyYXBjZG4uY29tL2Jvb3RzdHJhcC8zLjIuMC9jc3MvYm9vdHN0cmFwLm1pbi5jc3MiLz4KICAgIDxsaW5rIHJlbD0ic3R5bGVzaGVldCIgaHJlZj0iaHR0cHM6Ly9tYXhjZG4uYm9vdHN0cmFwY2RuLmNvbS9ib290c3RyYXAvMy4yLjAvY3NzL2Jvb3RzdHJhcC10aGVtZS5taW4uY3NzIi8+CiAgICA8bGluayByZWw9InN0eWxlc2hlZXQiIGhyZWY9Imh0dHBzOi8vbWF4Y2RuLmJvb3RzdHJhcGNkbi5jb20vZm9udC1hd2Vzb21lLzQuNi4zL2Nzcy9mb250LWF3ZXNvbWUubWluLmNzcyIvPgogICAgPGxpbmsgcmVsPSJzdHlsZXNoZWV0IiBocmVmPSJodHRwczovL2NkbmpzLmNsb3VkZmxhcmUuY29tL2FqYXgvbGlicy9MZWFmbGV0LmF3ZXNvbWUtbWFya2Vycy8yLjAuMi9sZWFmbGV0LmF3ZXNvbWUtbWFya2Vycy5jc3MiLz4KICAgIDxsaW5rIHJlbD0ic3R5bGVzaGVldCIgaHJlZj0iaHR0cHM6Ly9yYXdjZG4uZ2l0aGFjay5jb20vcHl0aG9uLXZpc3VhbGl6YXRpb24vZm9saXVtL21hc3Rlci9mb2xpdW0vdGVtcGxhdGVzL2xlYWZsZXQuYXdlc29tZS5yb3RhdGUuY3NzIi8+CiAgICA8c3R5bGU+aHRtbCwgYm9keSB7d2lkdGg6IDEwMCU7aGVpZ2h0OiAxMDAlO21hcmdpbjogMDtwYWRkaW5nOiAwO308L3N0eWxlPgogICAgPHN0eWxlPiNtYXAge3Bvc2l0aW9uOmFic29sdXRlO3RvcDowO2JvdHRvbTowO3JpZ2h0OjA7bGVmdDowO308L3N0eWxlPgogICAgCiAgICA8bWV0YSBuYW1lPSJ2aWV3cG9ydCIgY29udGVudD0id2lkdGg9ZGV2aWNlLXdpZHRoLAogICAgICAgIGluaXRpYWwtc2NhbGU9MS4wLCBtYXhpbXVtLXNjYWxlPTEuMCwgdXNlci1zY2FsYWJsZT1ubyIgLz4KICAgIDxzdHlsZT4jbWFwX2Q1MjgyNmExMGEzYzQxZjRiYzJjMTllNDM4YzE1ZDNkIHsKICAgICAgICBwb3NpdGlvbjogcmVsYXRpdmU7CiAgICAgICAgd2lkdGg6IDEwMC4wJTsKICAgICAgICBoZWlnaHQ6IDEwMC4wJTsKICAgICAgICBsZWZ0OiAwLjAlOwogICAgICAgIHRvcDogMC4wJTsKICAgICAgICB9CiAgICA8L3N0eWxlPgo8L2hlYWQ+Cjxib2R5PiAgICAKICAgIAogICAgPGRpdiBjbGFzcz0iZm9saXVtLW1hcCIgaWQ9Im1hcF9kNTI4MjZhMTBhM2M0MWY0YmMyYzE5ZTQzOGMxNWQzZCIgPjwvZGl2Pgo8L2JvZHk+CjxzY3JpcHQ+ICAgIAogICAgCiAgICAKICAgICAgICB2YXIgYm91bmRzID0gbnVsbDsKICAgIAoKICAgIHZhciBtYXBfZDUyODI2YTEwYTNjNDFmNGJjMmMxOWU0MzhjMTVkM2QgPSBMLm1hcCgKICAgICAgICAnbWFwX2Q1MjgyNmExMGEzYzQxZjRiYzJjMTllNDM4YzE1ZDNkJywgewogICAgICAgIGNlbnRlcjogWzIzLjYzNDUsIC0xMDIuNTUyOF0sCiAgICAgICAgem9vbTogNiwKICAgICAgICBtYXhCb3VuZHM6IGJvdW5kcywKICAgICAgICBsYXllcnM6IFtdLAogICAgICAgIHdvcmxkQ29weUp1bXA6IGZhbHNlLAogICAgICAgIGNyczogTC5DUlMuRVBTRzM4NTcsCiAgICAgICAgem9vbUNvbnRyb2w6IHRydWUsCiAgICAgICAgfSk7CgoKICAgIAogICAgdmFyIHRpbGVfbGF5ZXJfMTMxNjBmZWFkODkyNGJhOWFkZTgyZDc1NTFjMDUxNWYgPSBMLnRpbGVMYXllcigKICAgICAgICAnaHR0cHM6Ly9zdGFtZW4tdGlsZXMte3N9LmEuc3NsLmZhc3RseS5uZXQvdGVycmFpbi97en0ve3h9L3t5fS5qcGcnLAogICAgICAgIHsKICAgICAgICAiYXR0cmlidXRpb24iOiBudWxsLAogICAgICAgICJkZXRlY3RSZXRpbmEiOiBmYWxzZSwKICAgICAgICAibWF4TmF0aXZlWm9vbSI6IDE4LAogICAgICAgICJtYXhab29tIjogMTgsCiAgICAgICAgIm1pblpvb20iOiAwLAogICAgICAgICJub1dyYXAiOiBmYWxzZSwKICAgICAgICAib3BhY2l0eSI6IDEsCiAgICAgICAgInN1YmRvbWFpbnMiOiAiYWJjIiwKICAgICAgICAidG1zIjogZmFsc2UKfSkuYWRkVG8obWFwX2Q1MjgyNmExMGEzYzQxZjRiYzJjMTllNDM4YzE1ZDNkKTsKPC9zY3JpcHQ+ onload=\"this.contentDocument.open();this.contentDocument.write(atob(this.getAttribute('data-html')));this.contentDocument.close();\" allowfullscreen webkitallowfullscreen mozallowfullscreen></iframe></div></div>"
            ],
            "text/plain": [
              "<folium.folium.Map at 0x7fc763864e10>"
            ]
          },
          "metadata": {
            "tags": []
          },
          "execution_count": 28
        }
      ]
    },
    {
      "cell_type": "markdown",
      "metadata": {
        "button": false,
        "new_sheet": false,
        "run_control": {
          "read_only": false
        },
        "id": "C--BCYEwjoGu",
        "colab_type": "text"
      },
      "source": [
        "Double-click __here__ for the solution.\n",
        "<!-- The correct answer is:\n",
        "\\\\ # define Mexico's geolocation coordinates\n",
        "mexico_latitude = 23.6345 \n",
        "mexico_longitude = -102.5528\n",
        "-->\n",
        "\n",
        "<!--\n",
        "\\\\ # define the world map centered around Canada with a higher zoom level\n",
        "mexico_map = folium.Map(location=[mexico_latitude, mexico_longitude], zoom_start=6, tiles='Stamen Terrain')\n",
        "-->\n",
        "\n",
        "<!--\n",
        "\\\\ # display world map\n",
        "mexico_map\n",
        "-->"
      ]
    },
    {
      "cell_type": "markdown",
      "metadata": {
        "button": false,
        "new_sheet": false,
        "run_control": {
          "read_only": false
        },
        "id": "LoJc0Lu-joGv",
        "colab_type": "text"
      },
      "source": [
        "# Maps with Markers <a id=\"6\"></a>\n"
      ]
    },
    {
      "cell_type": "markdown",
      "metadata": {
        "button": false,
        "new_sheet": false,
        "run_control": {
          "read_only": false
        },
        "id": "BLuQxYtYjoGv",
        "colab_type": "text"
      },
      "source": [
        "Let's download and import the data on police department incidents using *pandas* `read_csv()` method."
      ]
    },
    {
      "cell_type": "markdown",
      "metadata": {
        "button": false,
        "new_sheet": false,
        "run_control": {
          "read_only": false
        },
        "id": "U-v4FFwejoGw",
        "colab_type": "text"
      },
      "source": [
        "Download the dataset and read it into a *pandas* dataframe:"
      ]
    },
    {
      "cell_type": "code",
      "metadata": {
        "button": false,
        "jupyter": {
          "outputs_hidden": false
        },
        "new_sheet": false,
        "run_control": {
          "read_only": false
        },
        "id": "EKlI_bjBjoGw",
        "colab_type": "code",
        "colab": {
          "base_uri": "https://localhost:8080/",
          "height": 34
        },
        "outputId": "a65ca75f-4e4b-4a2b-f4a2-565586319267"
      },
      "source": [
        "df_incidents = pd.read_csv('https://s3-api.us-geo.objectstorage.softlayer.net/cf-courses-data/CognitiveClass/DV0101EN/labs/Data_Files/Police_Department_Incidents_-_Previous_Year__2016_.csv')\n",
        "\n",
        "print('Dataset downloaded and read into a pandas dataframe!')"
      ],
      "execution_count": 37,
      "outputs": [
        {
          "output_type": "stream",
          "text": [
            "Dataset downloaded and read into a pandas dataframe!\n"
          ],
          "name": "stdout"
        }
      ]
    },
    {
      "cell_type": "markdown",
      "metadata": {
        "button": false,
        "new_sheet": false,
        "run_control": {
          "read_only": false
        },
        "id": "jxzKi4VejoG2",
        "colab_type": "text"
      },
      "source": [
        "Let's take a look at the first five items in our dataset."
      ]
    },
    {
      "cell_type": "code",
      "metadata": {
        "button": false,
        "jupyter": {
          "outputs_hidden": false
        },
        "new_sheet": false,
        "run_control": {
          "read_only": false
        },
        "id": "AmoBkEWhjoG2",
        "colab_type": "code",
        "colab": {}
      },
      "source": [
        "df_incidents.head()"
      ],
      "execution_count": 0,
      "outputs": []
    },
    {
      "cell_type": "markdown",
      "metadata": {
        "button": false,
        "new_sheet": false,
        "run_control": {
          "read_only": false
        },
        "id": "L_twYDJ8joG7",
        "colab_type": "text"
      },
      "source": [
        "So each row consists of 13 features:\n",
        "> 1. **IncidntNum**: Incident Number\n",
        "> 2. **Category**: Category of crime or incident\n",
        "> 3. **Descript**: Description of the crime or incident\n",
        "> 4. **DayOfWeek**: The day of week on which the incident occurred\n",
        "> 5. **Date**: The Date on which the incident occurred\n",
        "> 6. **Time**: The time of day on which the incident occurred\n",
        "> 7. **PdDistrict**: The police department district\n",
        "> 8. **Resolution**: The resolution of the crime in terms whether the perpetrator was arrested or not\n",
        "> 9. **Address**: The closest address to where the incident took place\n",
        "> 10. **X**: The longitude value of the crime location \n",
        "> 11. **Y**: The latitude value of the crime location\n",
        "> 12. **Location**: A tuple of the latitude and the longitude values\n",
        "> 13. **PdId**: The police department ID"
      ]
    },
    {
      "cell_type": "markdown",
      "metadata": {
        "button": false,
        "new_sheet": false,
        "run_control": {
          "read_only": false
        },
        "id": "ohsr8uIujoG8",
        "colab_type": "text"
      },
      "source": [
        "Let's find out how many entries there are in our dataset."
      ]
    },
    {
      "cell_type": "code",
      "metadata": {
        "button": false,
        "jupyter": {
          "outputs_hidden": false
        },
        "new_sheet": false,
        "run_control": {
          "read_only": false
        },
        "id": "ssQWsq08joG8",
        "colab_type": "code",
        "colab": {
          "base_uri": "https://localhost:8080/",
          "height": 34
        },
        "outputId": "cf91f4d8-f3cd-4953-a963-644a63d47be3"
      },
      "source": [
        "df_incidents.shape"
      ],
      "execution_count": 38,
      "outputs": [
        {
          "output_type": "execute_result",
          "data": {
            "text/plain": [
              "(150500, 13)"
            ]
          },
          "metadata": {
            "tags": []
          },
          "execution_count": 38
        }
      ]
    },
    {
      "cell_type": "markdown",
      "metadata": {
        "button": false,
        "new_sheet": false,
        "run_control": {
          "read_only": false
        },
        "id": "1wDv4PKwjoG_",
        "colab_type": "text"
      },
      "source": [
        "So the dataframe consists of 150,500 crimes, which took place in the year 2016. In order to reduce computational cost, let's just work with the first 100 incidents in this dataset."
      ]
    },
    {
      "cell_type": "code",
      "metadata": {
        "button": false,
        "new_sheet": false,
        "run_control": {
          "read_only": false
        },
        "id": "6Ub0nINfjoHA",
        "colab_type": "code",
        "colab": {}
      },
      "source": [
        "# get the first 100 crimes in the df_incidents dataframe\n",
        "limit = 100\n",
        "df_incidents = df_incidents.iloc[0:limit, :]"
      ],
      "execution_count": 0,
      "outputs": []
    },
    {
      "cell_type": "markdown",
      "metadata": {
        "button": false,
        "new_sheet": false,
        "run_control": {
          "read_only": false
        },
        "id": "sv3ctyYxjoHF",
        "colab_type": "text"
      },
      "source": [
        "Let's confirm that our dataframe now consists only of 100 crimes."
      ]
    },
    {
      "cell_type": "code",
      "metadata": {
        "button": false,
        "jupyter": {
          "outputs_hidden": false
        },
        "new_sheet": false,
        "run_control": {
          "read_only": false
        },
        "id": "GelM5tMSjoHG",
        "colab_type": "code",
        "colab": {
          "base_uri": "https://localhost:8080/",
          "height": 34
        },
        "outputId": "717f7cd9-8aa8-4548-9e60-caf45d1912c1"
      },
      "source": [
        "df_incidents.shape"
      ],
      "execution_count": 40,
      "outputs": [
        {
          "output_type": "execute_result",
          "data": {
            "text/plain": [
              "(100, 13)"
            ]
          },
          "metadata": {
            "tags": []
          },
          "execution_count": 40
        }
      ]
    },
    {
      "cell_type": "markdown",
      "metadata": {
        "button": false,
        "new_sheet": false,
        "run_control": {
          "read_only": false
        },
        "id": "t0Hh8dwpjoHM",
        "colab_type": "text"
      },
      "source": [
        "Now that we reduced the data a little bit, let's visualize where these crimes took place in the city of San Francisco. We will use the default style and we will initialize the zoom level to 12. "
      ]
    },
    {
      "cell_type": "code",
      "metadata": {
        "button": false,
        "new_sheet": false,
        "run_control": {
          "read_only": false
        },
        "id": "9wqYFWxyjoHN",
        "colab_type": "code",
        "colab": {}
      },
      "source": [
        "# San Francisco latitude and longitude values\n",
        "latitude = 37.77\n",
        "longitude = -122.42"
      ],
      "execution_count": 0,
      "outputs": []
    },
    {
      "cell_type": "code",
      "metadata": {
        "button": false,
        "jupyter": {
          "outputs_hidden": false
        },
        "new_sheet": false,
        "run_control": {
          "read_only": false
        },
        "id": "ptXY6cWdjoHS",
        "colab_type": "code",
        "colab": {
          "base_uri": "https://localhost:8080/",
          "height": 992
        },
        "outputId": "8e33d4c0-2069-42b2-d25e-771a8fa34f43"
      },
      "source": [
        "# create map and display it\n",
        "sanfran_map = folium.Map(location=[latitude, longitude], zoom_start=12)\n",
        "\n",
        "# display the map of San Francisco\n",
        "sanfran_map"
      ],
      "execution_count": 42,
      "outputs": [
        {
          "output_type": "execute_result",
          "data": {
            "text/html": [
              "<div style=\"width:100%;\"><div style=\"position:relative;width:100%;height:0;padding-bottom:60%;\"><iframe src=\"about:blank\" style=\"position:absolute;width:100%;height:100%;left:0;top:0;border:none !important;\" data-html=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 onload=\"this.contentDocument.open();this.contentDocument.write(atob(this.getAttribute('data-html')));this.contentDocument.close();\" allowfullscreen webkitallowfullscreen mozallowfullscreen></iframe></div></div>"
            ],
            "text/plain": [
              "<folium.folium.Map at 0x7fc762e5da90>"
            ]
          },
          "metadata": {
            "tags": []
          },
          "execution_count": 42
        }
      ]
    },
    {
      "cell_type": "markdown",
      "metadata": {
        "button": false,
        "new_sheet": false,
        "run_control": {
          "read_only": false
        },
        "id": "RUEkkb28joHW",
        "colab_type": "text"
      },
      "source": [
        "Now let's superimpose the locations of the crimes onto the map. The way to do that in **Folium** is to create a *feature group* with its own features and style and then add it to the sanfran_map."
      ]
    },
    {
      "cell_type": "code",
      "metadata": {
        "button": false,
        "jupyter": {
          "outputs_hidden": false
        },
        "new_sheet": false,
        "run_control": {
          "read_only": false
        },
        "id": "mwozin2sjoHZ",
        "colab_type": "code",
        "colab": {
          "base_uri": "https://localhost:8080/",
          "height": 231
        },
        "outputId": "70ab03b4-a166-4d3d-acf3-29f847522e54"
      },
      "source": [
        "# instantiate a feature group for the incidents in the dataframe\n",
        "incidents = folium.map.FeatureGroup()\n",
        "\n",
        "# loop through the 100 crimes and add each to the incidents feature group\n",
        "for lat, lng, in zip(df_incidents.Y, df_incidents.X):\n",
        "    incidents.add_child(\n",
        "        folium.features.CircleMarker(\n",
        "            [lat, lng],\n",
        "            radius=5, # define how big you want the circle markers to be\n",
        "            color='yellow',\n",
        "            fill=True,\n",
        "            fill_color='blue',\n",
        "            fill_opacity=0.6\n",
        "        )\n",
        "    )\n",
        "\n",
        "# add incidents to map\n",
        "sanfran_map.add_child(incidents)"
      ],
      "execution_count": 43,
      "outputs": [
        {
          "output_type": "error",
          "ename": "AttributeError",
          "evalue": "ignored",
          "traceback": [
            "\u001b[0;31m---------------------------------------------------------------------------\u001b[0m",
            "\u001b[0;31mAttributeError\u001b[0m                            Traceback (most recent call last)",
            "\u001b[0;32m<ipython-input-43-90597a1f37a4>\u001b[0m in \u001b[0;36m<module>\u001b[0;34m()\u001b[0m\n\u001b[1;32m      4\u001b[0m \u001b[0;32mfor\u001b[0m \u001b[0mlat\u001b[0m\u001b[0;34m,\u001b[0m \u001b[0mlng\u001b[0m\u001b[0;34m,\u001b[0m \u001b[0;32min\u001b[0m \u001b[0mzip\u001b[0m\u001b[0;34m(\u001b[0m\u001b[0mdf_incidents\u001b[0m\u001b[0;34m.\u001b[0m\u001b[0mY\u001b[0m\u001b[0;34m,\u001b[0m \u001b[0mdf_incidents\u001b[0m\u001b[0;34m.\u001b[0m\u001b[0mX\u001b[0m\u001b[0;34m)\u001b[0m\u001b[0;34m:\u001b[0m\u001b[0;34m\u001b[0m\u001b[0;34m\u001b[0m\u001b[0m\n\u001b[1;32m      5\u001b[0m     incidents.add_child(\n\u001b[0;32m----> 6\u001b[0;31m         folium.features.CircleMarker(\n\u001b[0m\u001b[1;32m      7\u001b[0m             \u001b[0;34m[\u001b[0m\u001b[0mlat\u001b[0m\u001b[0;34m,\u001b[0m \u001b[0mlng\u001b[0m\u001b[0;34m]\u001b[0m\u001b[0;34m,\u001b[0m\u001b[0;34m\u001b[0m\u001b[0;34m\u001b[0m\u001b[0m\n\u001b[1;32m      8\u001b[0m             \u001b[0mradius\u001b[0m\u001b[0;34m=\u001b[0m\u001b[0;36m5\u001b[0m\u001b[0;34m,\u001b[0m \u001b[0;31m# define how big you want the circle markers to be\u001b[0m\u001b[0;34m\u001b[0m\u001b[0;34m\u001b[0m\u001b[0m\n",
            "\u001b[0;31mAttributeError\u001b[0m: module 'folium.features' has no attribute 'CircleMarker'"
          ]
        }
      ]
    },
    {
      "cell_type": "markdown",
      "metadata": {
        "button": false,
        "new_sheet": false,
        "run_control": {
          "read_only": false
        },
        "id": "cyqtJEUYjoHg",
        "colab_type": "text"
      },
      "source": [
        "You can also add some pop-up text that would get displayed when you hover over a marker. Let's make each marker display the category of the crime when hovered over."
      ]
    },
    {
      "cell_type": "code",
      "metadata": {
        "button": false,
        "jupyter": {
          "outputs_hidden": false
        },
        "new_sheet": false,
        "run_control": {
          "read_only": false
        },
        "id": "zT-PYnPLjoHh",
        "colab_type": "code",
        "colab": {
          "base_uri": "https://localhost:8080/",
          "height": 231
        },
        "outputId": "9cb9c0d6-a830-4779-a855-bf03a343dc3d"
      },
      "source": [
        "# instantiate a feature group for the incidents in the dataframe\n",
        "incidents = folium.map.FeatureGroup()\n",
        "\n",
        "# loop through the 100 crimes and add each to the incidents feature group\n",
        "for lat, lng, in zip(df_incidents.Y, df_incidents.X):\n",
        "    incidents.add_child(\n",
        "        folium.features.CircleMarker(\n",
        "            [lat, lng],\n",
        "            radius=5, # define how big you want the circle markers to be\n",
        "            color='yellow',\n",
        "            fill=True,\n",
        "            fill_color='blue',\n",
        "            fill_opacity=0.6\n",
        "        )\n",
        "    )\n",
        "\n",
        "# add pop-up text to each marker on the map\n",
        "latitudes = list(df_incidents.Y)\n",
        "longitudes = list(df_incidents.X)\n",
        "labels = list(df_incidents.Category)\n",
        "\n",
        "for lat, lng, label in zip(latitudes, longitudes, labels):\n",
        "    folium.Marker([lat, lng], popup=label).add_to(sanfran_map)    \n",
        "    \n",
        "# add incidents to map\n",
        "sanfran_map.add_child(incidents)"
      ],
      "execution_count": 44,
      "outputs": [
        {
          "output_type": "error",
          "ename": "AttributeError",
          "evalue": "ignored",
          "traceback": [
            "\u001b[0;31m---------------------------------------------------------------------------\u001b[0m",
            "\u001b[0;31mAttributeError\u001b[0m                            Traceback (most recent call last)",
            "\u001b[0;32m<ipython-input-44-8d30d8ebaf68>\u001b[0m in \u001b[0;36m<module>\u001b[0;34m()\u001b[0m\n\u001b[1;32m      4\u001b[0m \u001b[0;32mfor\u001b[0m \u001b[0mlat\u001b[0m\u001b[0;34m,\u001b[0m \u001b[0mlng\u001b[0m\u001b[0;34m,\u001b[0m \u001b[0;32min\u001b[0m \u001b[0mzip\u001b[0m\u001b[0;34m(\u001b[0m\u001b[0mdf_incidents\u001b[0m\u001b[0;34m.\u001b[0m\u001b[0mY\u001b[0m\u001b[0;34m,\u001b[0m \u001b[0mdf_incidents\u001b[0m\u001b[0;34m.\u001b[0m\u001b[0mX\u001b[0m\u001b[0;34m)\u001b[0m\u001b[0;34m:\u001b[0m\u001b[0;34m\u001b[0m\u001b[0;34m\u001b[0m\u001b[0m\n\u001b[1;32m      5\u001b[0m     incidents.add_child(\n\u001b[0;32m----> 6\u001b[0;31m         folium.features.CircleMarker(\n\u001b[0m\u001b[1;32m      7\u001b[0m             \u001b[0;34m[\u001b[0m\u001b[0mlat\u001b[0m\u001b[0;34m,\u001b[0m \u001b[0mlng\u001b[0m\u001b[0;34m]\u001b[0m\u001b[0;34m,\u001b[0m\u001b[0;34m\u001b[0m\u001b[0;34m\u001b[0m\u001b[0m\n\u001b[1;32m      8\u001b[0m             \u001b[0mradius\u001b[0m\u001b[0;34m=\u001b[0m\u001b[0;36m5\u001b[0m\u001b[0;34m,\u001b[0m \u001b[0;31m# define how big you want the circle markers to be\u001b[0m\u001b[0;34m\u001b[0m\u001b[0;34m\u001b[0m\u001b[0m\n",
            "\u001b[0;31mAttributeError\u001b[0m: module 'folium.features' has no attribute 'CircleMarker'"
          ]
        }
      ]
    },
    {
      "cell_type": "markdown",
      "metadata": {
        "button": false,
        "new_sheet": false,
        "run_control": {
          "read_only": false
        },
        "id": "-ti7QTmKjoHl",
        "colab_type": "text"
      },
      "source": [
        "Isn't this really cool? Now you are able to know what crime category occurred at each marker.\n",
        "\n",
        "If you find the map to be so congested will all these markers, there are two remedies to this problem. The simpler solution is to remove these location markers and just add the text to the circle markers themselves as follows:"
      ]
    },
    {
      "cell_type": "code",
      "metadata": {
        "button": false,
        "jupyter": {
          "outputs_hidden": false
        },
        "new_sheet": false,
        "run_control": {
          "read_only": false
        },
        "id": "dK3y6qLBjoHl",
        "colab_type": "code",
        "colab": {}
      },
      "source": [
        "# create map and display it\n",
        "sanfran_map = folium.Map(location=[latitude, longitude], zoom_start=12)\n",
        "\n",
        "# loop through the 100 crimes and add each to the map\n",
        "for lat, lng, label in zip(df_incidents.Y, df_incidents.X, df_incidents.Category):\n",
        "    folium.features.CircleMarker(\n",
        "        [lat, lng],\n",
        "        radius=5, # define how big you want the circle markers to be\n",
        "        color='yellow',\n",
        "        fill=True,\n",
        "        popup=label,\n",
        "        fill_color='blue',\n",
        "        fill_opacity=0.6\n",
        "    ).add_to(sanfran_map)\n",
        "\n",
        "# show map\n",
        "sanfran_map"
      ],
      "execution_count": 0,
      "outputs": []
    },
    {
      "cell_type": "markdown",
      "metadata": {
        "button": false,
        "new_sheet": false,
        "run_control": {
          "read_only": false
        },
        "id": "V1-goMfbjoHo",
        "colab_type": "text"
      },
      "source": [
        "The other proper remedy is to group the markers into different clusters. Each cluster is then represented by the number of crimes in each neighborhood. These clusters can be thought of as pockets of San Francisco which you can then analyze separately.\n",
        "\n",
        "To implement this, we start off by instantiating a *MarkerCluster* object and adding all the data points in the dataframe to this object."
      ]
    },
    {
      "cell_type": "code",
      "metadata": {
        "button": false,
        "jupyter": {
          "outputs_hidden": false
        },
        "new_sheet": false,
        "run_control": {
          "read_only": false
        },
        "id": "rpAuA2d3joHp",
        "colab_type": "code",
        "colab": {
          "base_uri": "https://localhost:8080/",
          "height": 992
        },
        "outputId": "d9660aaf-d511-4621-8fb8-5b49a3a0d89c"
      },
      "source": [
        "from folium import plugins\n",
        "\n",
        "# let's start again with a clean copy of the map of San Francisco\n",
        "sanfran_map = folium.Map(location = [latitude, longitude], zoom_start = 12)\n",
        "\n",
        "# instantiate a mark cluster object for the incidents in the dataframe\n",
        "incidents = plugins.MarkerCluster().add_to(sanfran_map)\n",
        "\n",
        "# loop through the dataframe and add each data point to the mark cluster\n",
        "for lat, lng, label, in zip(df_incidents.Y, df_incidents.X, df_incidents.Category):\n",
        "    folium.Marker(\n",
        "        location=[lat, lng],\n",
        "        icon=None,\n",
        "        popup=label,\n",
        "    ).add_to(incidents)\n",
        "\n",
        "# display map\n",
        "sanfran_map"
      ],
      "execution_count": 45,
      "outputs": [
        {
          "output_type": "execute_result",
          "data": {
            "text/html": [
              "<div style=\"width:100%;\"><div style=\"position:relative;width:100%;height:0;padding-bottom:60%;\"><iframe src=\"about:blank\" style=\"position:absolute;width:100%;height:100%;left:0;top:0;border:none !important;\" data-html=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 onload=\"this.contentDocument.open();this.contentDocument.write(atob(this.getAttribute('data-html')));this.contentDocument.close();\" allowfullscreen webkitallowfullscreen mozallowfullscreen></iframe></div></div>"
            ],
            "text/plain": [
              "<folium.folium.Map at 0x7fc7632ca630>"
            ]
          },
          "metadata": {
            "tags": []
          },
          "execution_count": 45
        }
      ]
    },
    {
      "cell_type": "markdown",
      "metadata": {
        "button": false,
        "new_sheet": false,
        "run_control": {
          "read_only": false
        },
        "id": "JyO7NnMujoHs",
        "colab_type": "text"
      },
      "source": [
        "Notice how when you zoom out all the way, all markers are grouped into one cluster, *the global cluster*, of 100 markers or crimes, which is the total number of crimes in our dataframe. Once you start zooming in, the *global cluster* will start breaking up into smaller clusters. Zooming in all the way will result in individual markers."
      ]
    },
    {
      "cell_type": "markdown",
      "metadata": {
        "button": false,
        "new_sheet": false,
        "run_control": {
          "read_only": false
        },
        "id": "XqJqQrSijoHs",
        "colab_type": "text"
      },
      "source": [
        "# Choropleth Maps <a id=\"8\"></a>\n",
        "\n",
        "A `Choropleth` map is a thematic map in which areas are shaded or patterned in proportion to the measurement of the statistical variable being displayed on the map, such as population density or per-capita income. The choropleth map provides an easy way to visualize how a measurement varies across a geographic area or it shows the level of variability within a region. Below is a `Choropleth` map of the US depicting the population by square mile per state.\n",
        "\n",
        "<img src = \"https://s3-api.us-geo.objectstorage.softlayer.net/cf-courses-data/CognitiveClass/DV0101EN/labs/Images/2000_census_population_density_map_by_state.png\" width = 600> "
      ]
    },
    {
      "cell_type": "markdown",
      "metadata": {
        "button": false,
        "new_sheet": false,
        "run_control": {
          "read_only": false
        },
        "id": "tEIdiL0xjoHt",
        "colab_type": "text"
      },
      "source": [
        "Now, let's create our own `Choropleth` map of the world depicting immigration from various countries to Canada.\n",
        "\n",
        "Let's first download and import our primary Canadian immigration dataset using *pandas* `read_excel()` method. Normally, before we can do that, we would need to download a module which *pandas* requires to read in excel files. This module is **xlrd**. For your convenience, we have pre-installed this module, so you would not have to worry about that. Otherwise, you would need to run the following line of code to install the **xlrd** module:\n",
        "```\n",
        "!conda install -c anaconda xlrd --yes\n",
        "```"
      ]
    },
    {
      "cell_type": "markdown",
      "metadata": {
        "button": false,
        "new_sheet": false,
        "run_control": {
          "read_only": false
        },
        "id": "57I0Sd8GjoHt",
        "colab_type": "text"
      },
      "source": [
        "Download the dataset and read it into a *pandas* dataframe:"
      ]
    },
    {
      "cell_type": "code",
      "metadata": {
        "button": false,
        "jupyter": {
          "outputs_hidden": false
        },
        "new_sheet": false,
        "run_control": {
          "read_only": false
        },
        "id": "kz1XdthLjoHu",
        "colab_type": "code",
        "colab": {
          "base_uri": "https://localhost:8080/",
          "height": 34
        },
        "outputId": "1b1e46da-fbc0-4a53-900b-c8d70352fc26"
      },
      "source": [
        "df_can = pd.read_excel('https://s3-api.us-geo.objectstorage.softlayer.net/cf-courses-data/CognitiveClass/DV0101EN/labs/Data_Files/Canada.xlsx',\n",
        "                     sheet_name='Canada by Citizenship',\n",
        "                     skiprows=range(20),\n",
        "                     skipfooter=2)\n",
        "\n",
        "print('Data downloaded and read into a dataframe!')"
      ],
      "execution_count": 46,
      "outputs": [
        {
          "output_type": "stream",
          "text": [
            "Data downloaded and read into a dataframe!\n"
          ],
          "name": "stdout"
        }
      ]
    },
    {
      "cell_type": "markdown",
      "metadata": {
        "button": false,
        "new_sheet": false,
        "run_control": {
          "read_only": false
        },
        "id": "hxI9qD5tjoHz",
        "colab_type": "text"
      },
      "source": [
        "Let's take a look at the first five items in our dataset."
      ]
    },
    {
      "cell_type": "code",
      "metadata": {
        "button": false,
        "jupyter": {
          "outputs_hidden": false
        },
        "new_sheet": false,
        "run_control": {
          "read_only": false
        },
        "scrolled": true,
        "id": "qkervN_7joH0",
        "colab_type": "code",
        "colab": {
          "base_uri": "https://localhost:8080/",
          "height": 302
        },
        "outputId": "9d7a9331-af2d-4cbc-fc83-90b1cfede246"
      },
      "source": [
        "df_can.head()"
      ],
      "execution_count": 47,
      "outputs": [
        {
          "output_type": "execute_result",
          "data": {
            "text/html": [
              "<div>\n",
              "<style scoped>\n",
              "    .dataframe tbody tr th:only-of-type {\n",
              "        vertical-align: middle;\n",
              "    }\n",
              "\n",
              "    .dataframe tbody tr th {\n",
              "        vertical-align: top;\n",
              "    }\n",
              "\n",
              "    .dataframe thead th {\n",
              "        text-align: right;\n",
              "    }\n",
              "</style>\n",
              "<table border=\"1\" class=\"dataframe\">\n",
              "  <thead>\n",
              "    <tr style=\"text-align: right;\">\n",
              "      <th></th>\n",
              "      <th>Type</th>\n",
              "      <th>Coverage</th>\n",
              "      <th>OdName</th>\n",
              "      <th>AREA</th>\n",
              "      <th>AreaName</th>\n",
              "      <th>REG</th>\n",
              "      <th>RegName</th>\n",
              "      <th>DEV</th>\n",
              "      <th>DevName</th>\n",
              "      <th>1980</th>\n",
              "      <th>1981</th>\n",
              "      <th>1982</th>\n",
              "      <th>1983</th>\n",
              "      <th>1984</th>\n",
              "      <th>1985</th>\n",
              "      <th>1986</th>\n",
              "      <th>1987</th>\n",
              "      <th>1988</th>\n",
              "      <th>1989</th>\n",
              "      <th>1990</th>\n",
              "      <th>1991</th>\n",
              "      <th>1992</th>\n",
              "      <th>1993</th>\n",
              "      <th>1994</th>\n",
              "      <th>1995</th>\n",
              "      <th>1996</th>\n",
              "      <th>1997</th>\n",
              "      <th>1998</th>\n",
              "      <th>1999</th>\n",
              "      <th>2000</th>\n",
              "      <th>2001</th>\n",
              "      <th>2002</th>\n",
              "      <th>2003</th>\n",
              "      <th>2004</th>\n",
              "      <th>2005</th>\n",
              "      <th>2006</th>\n",
              "      <th>2007</th>\n",
              "      <th>2008</th>\n",
              "      <th>2009</th>\n",
              "      <th>2010</th>\n",
              "      <th>2011</th>\n",
              "      <th>2012</th>\n",
              "      <th>2013</th>\n",
              "    </tr>\n",
              "  </thead>\n",
              "  <tbody>\n",
              "    <tr>\n",
              "      <th>0</th>\n",
              "      <td>Immigrants</td>\n",
              "      <td>Foreigners</td>\n",
              "      <td>Afghanistan</td>\n",
              "      <td>935</td>\n",
              "      <td>Asia</td>\n",
              "      <td>5501</td>\n",
              "      <td>Southern Asia</td>\n",
              "      <td>902</td>\n",
              "      <td>Developing regions</td>\n",
              "      <td>16</td>\n",
              "      <td>39</td>\n",
              "      <td>39</td>\n",
              "      <td>47</td>\n",
              "      <td>71</td>\n",
              "      <td>340</td>\n",
              "      <td>496</td>\n",
              "      <td>741</td>\n",
              "      <td>828</td>\n",
              "      <td>1076</td>\n",
              "      <td>1028</td>\n",
              "      <td>1378</td>\n",
              "      <td>1170</td>\n",
              "      <td>713</td>\n",
              "      <td>858</td>\n",
              "      <td>1537</td>\n",
              "      <td>2212</td>\n",
              "      <td>2555</td>\n",
              "      <td>1999</td>\n",
              "      <td>2395</td>\n",
              "      <td>3326</td>\n",
              "      <td>4067</td>\n",
              "      <td>3697</td>\n",
              "      <td>3479</td>\n",
              "      <td>2978</td>\n",
              "      <td>3436</td>\n",
              "      <td>3009</td>\n",
              "      <td>2652</td>\n",
              "      <td>2111</td>\n",
              "      <td>1746</td>\n",
              "      <td>1758</td>\n",
              "      <td>2203</td>\n",
              "      <td>2635</td>\n",
              "      <td>2004</td>\n",
              "    </tr>\n",
              "    <tr>\n",
              "      <th>1</th>\n",
              "      <td>Immigrants</td>\n",
              "      <td>Foreigners</td>\n",
              "      <td>Albania</td>\n",
              "      <td>908</td>\n",
              "      <td>Europe</td>\n",
              "      <td>925</td>\n",
              "      <td>Southern Europe</td>\n",
              "      <td>901</td>\n",
              "      <td>Developed regions</td>\n",
              "      <td>1</td>\n",
              "      <td>0</td>\n",
              "      <td>0</td>\n",
              "      <td>0</td>\n",
              "      <td>0</td>\n",
              "      <td>0</td>\n",
              "      <td>1</td>\n",
              "      <td>2</td>\n",
              "      <td>2</td>\n",
              "      <td>3</td>\n",
              "      <td>3</td>\n",
              "      <td>21</td>\n",
              "      <td>56</td>\n",
              "      <td>96</td>\n",
              "      <td>71</td>\n",
              "      <td>63</td>\n",
              "      <td>113</td>\n",
              "      <td>307</td>\n",
              "      <td>574</td>\n",
              "      <td>1264</td>\n",
              "      <td>1816</td>\n",
              "      <td>1602</td>\n",
              "      <td>1021</td>\n",
              "      <td>853</td>\n",
              "      <td>1450</td>\n",
              "      <td>1223</td>\n",
              "      <td>856</td>\n",
              "      <td>702</td>\n",
              "      <td>560</td>\n",
              "      <td>716</td>\n",
              "      <td>561</td>\n",
              "      <td>539</td>\n",
              "      <td>620</td>\n",
              "      <td>603</td>\n",
              "    </tr>\n",
              "    <tr>\n",
              "      <th>2</th>\n",
              "      <td>Immigrants</td>\n",
              "      <td>Foreigners</td>\n",
              "      <td>Algeria</td>\n",
              "      <td>903</td>\n",
              "      <td>Africa</td>\n",
              "      <td>912</td>\n",
              "      <td>Northern Africa</td>\n",
              "      <td>902</td>\n",
              "      <td>Developing regions</td>\n",
              "      <td>80</td>\n",
              "      <td>67</td>\n",
              "      <td>71</td>\n",
              "      <td>69</td>\n",
              "      <td>63</td>\n",
              "      <td>44</td>\n",
              "      <td>69</td>\n",
              "      <td>132</td>\n",
              "      <td>242</td>\n",
              "      <td>434</td>\n",
              "      <td>491</td>\n",
              "      <td>872</td>\n",
              "      <td>795</td>\n",
              "      <td>717</td>\n",
              "      <td>595</td>\n",
              "      <td>1106</td>\n",
              "      <td>2054</td>\n",
              "      <td>1842</td>\n",
              "      <td>2292</td>\n",
              "      <td>2389</td>\n",
              "      <td>2867</td>\n",
              "      <td>3418</td>\n",
              "      <td>3406</td>\n",
              "      <td>3072</td>\n",
              "      <td>3616</td>\n",
              "      <td>3626</td>\n",
              "      <td>4807</td>\n",
              "      <td>3623</td>\n",
              "      <td>4005</td>\n",
              "      <td>5393</td>\n",
              "      <td>4752</td>\n",
              "      <td>4325</td>\n",
              "      <td>3774</td>\n",
              "      <td>4331</td>\n",
              "    </tr>\n",
              "    <tr>\n",
              "      <th>3</th>\n",
              "      <td>Immigrants</td>\n",
              "      <td>Foreigners</td>\n",
              "      <td>American Samoa</td>\n",
              "      <td>909</td>\n",
              "      <td>Oceania</td>\n",
              "      <td>957</td>\n",
              "      <td>Polynesia</td>\n",
              "      <td>902</td>\n",
              "      <td>Developing regions</td>\n",
              "      <td>0</td>\n",
              "      <td>1</td>\n",
              "      <td>0</td>\n",
              "      <td>0</td>\n",
              "      <td>0</td>\n",
              "      <td>0</td>\n",
              "      <td>0</td>\n",
              "      <td>1</td>\n",
              "      <td>0</td>\n",
              "      <td>1</td>\n",
              "      <td>2</td>\n",
              "      <td>0</td>\n",
              "      <td>0</td>\n",
              "      <td>0</td>\n",
              "      <td>0</td>\n",
              "      <td>0</td>\n",
              "      <td>0</td>\n",
              "      <td>0</td>\n",
              "      <td>0</td>\n",
              "      <td>0</td>\n",
              "      <td>0</td>\n",
              "      <td>0</td>\n",
              "      <td>0</td>\n",
              "      <td>0</td>\n",
              "      <td>0</td>\n",
              "      <td>0</td>\n",
              "      <td>1</td>\n",
              "      <td>0</td>\n",
              "      <td>0</td>\n",
              "      <td>0</td>\n",
              "      <td>0</td>\n",
              "      <td>0</td>\n",
              "      <td>0</td>\n",
              "      <td>0</td>\n",
              "    </tr>\n",
              "    <tr>\n",
              "      <th>4</th>\n",
              "      <td>Immigrants</td>\n",
              "      <td>Foreigners</td>\n",
              "      <td>Andorra</td>\n",
              "      <td>908</td>\n",
              "      <td>Europe</td>\n",
              "      <td>925</td>\n",
              "      <td>Southern Europe</td>\n",
              "      <td>901</td>\n",
              "      <td>Developed regions</td>\n",
              "      <td>0</td>\n",
              "      <td>0</td>\n",
              "      <td>0</td>\n",
              "      <td>0</td>\n",
              "      <td>0</td>\n",
              "      <td>0</td>\n",
              "      <td>2</td>\n",
              "      <td>0</td>\n",
              "      <td>0</td>\n",
              "      <td>0</td>\n",
              "      <td>3</td>\n",
              "      <td>0</td>\n",
              "      <td>1</td>\n",
              "      <td>0</td>\n",
              "      <td>0</td>\n",
              "      <td>0</td>\n",
              "      <td>0</td>\n",
              "      <td>0</td>\n",
              "      <td>2</td>\n",
              "      <td>0</td>\n",
              "      <td>0</td>\n",
              "      <td>1</td>\n",
              "      <td>0</td>\n",
              "      <td>2</td>\n",
              "      <td>0</td>\n",
              "      <td>0</td>\n",
              "      <td>1</td>\n",
              "      <td>1</td>\n",
              "      <td>0</td>\n",
              "      <td>0</td>\n",
              "      <td>0</td>\n",
              "      <td>0</td>\n",
              "      <td>1</td>\n",
              "      <td>1</td>\n",
              "    </tr>\n",
              "  </tbody>\n",
              "</table>\n",
              "</div>"
            ],
            "text/plain": [
              "         Type    Coverage          OdName  AREA  ...  2010  2011  2012  2013\n",
              "0  Immigrants  Foreigners     Afghanistan   935  ...  1758  2203  2635  2004\n",
              "1  Immigrants  Foreigners         Albania   908  ...   561   539   620   603\n",
              "2  Immigrants  Foreigners         Algeria   903  ...  4752  4325  3774  4331\n",
              "3  Immigrants  Foreigners  American Samoa   909  ...     0     0     0     0\n",
              "4  Immigrants  Foreigners         Andorra   908  ...     0     0     1     1\n",
              "\n",
              "[5 rows x 43 columns]"
            ]
          },
          "metadata": {
            "tags": []
          },
          "execution_count": 47
        }
      ]
    },
    {
      "cell_type": "markdown",
      "metadata": {
        "button": false,
        "new_sheet": false,
        "run_control": {
          "read_only": false
        },
        "id": "SORXcrqtjoH2",
        "colab_type": "text"
      },
      "source": [
        "Let's find out how many entries there are in our dataset."
      ]
    },
    {
      "cell_type": "code",
      "metadata": {
        "button": false,
        "jupyter": {
          "outputs_hidden": false
        },
        "new_sheet": false,
        "run_control": {
          "read_only": false
        },
        "id": "NwzDyQevjoH2",
        "colab_type": "code",
        "colab": {
          "base_uri": "https://localhost:8080/",
          "height": 34
        },
        "outputId": "689fc5fe-22f3-46d4-fa4b-733e6733036c"
      },
      "source": [
        "# print the dimensions of the dataframe\n",
        "print(df_can.shape)"
      ],
      "execution_count": 48,
      "outputs": [
        {
          "output_type": "stream",
          "text": [
            "(195, 43)\n"
          ],
          "name": "stdout"
        }
      ]
    },
    {
      "cell_type": "markdown",
      "metadata": {
        "button": false,
        "new_sheet": false,
        "run_control": {
          "read_only": false
        },
        "id": "30fbavuTjoH5",
        "colab_type": "text"
      },
      "source": [
        "Clean up data. We will make some modifications to the original dataset to make it easier to create our visualizations. Refer to *Introduction to Matplotlib and Line Plots* and *Area Plots, Histograms, and Bar Plots* notebooks for a detailed description of this preprocessing."
      ]
    },
    {
      "cell_type": "code",
      "metadata": {
        "button": false,
        "jupyter": {
          "outputs_hidden": false
        },
        "new_sheet": false,
        "run_control": {
          "read_only": false
        },
        "scrolled": true,
        "id": "PtW89MZijoH5",
        "colab_type": "code",
        "colab": {
          "base_uri": "https://localhost:8080/",
          "height": 34
        },
        "outputId": "d3ec6d49-39a2-4140-8b0c-7aa7e2bfc6da"
      },
      "source": [
        "# clean up the dataset to remove unnecessary columns (eg. REG) \n",
        "df_can.drop(['AREA','REG','DEV','Type','Coverage'], axis=1, inplace=True)\n",
        "\n",
        "# let's rename the columns so that they make sense\n",
        "df_can.rename(columns={'OdName':'Country', 'AreaName':'Continent','RegName':'Region'}, inplace=True)\n",
        "\n",
        "# for sake of consistency, let's also make all column labels of type string\n",
        "df_can.columns = list(map(str, df_can.columns))\n",
        "\n",
        "# add total column\n",
        "df_can['Total'] = df_can.sum(axis=1)\n",
        "\n",
        "# years that we will be using in this lesson - useful for plotting later on\n",
        "years = list(map(str, range(1980, 2014)))\n",
        "print ('data dimensions:', df_can.shape)"
      ],
      "execution_count": 49,
      "outputs": [
        {
          "output_type": "stream",
          "text": [
            "data dimensions: (195, 39)\n"
          ],
          "name": "stdout"
        }
      ]
    },
    {
      "cell_type": "markdown",
      "metadata": {
        "button": false,
        "new_sheet": false,
        "run_control": {
          "read_only": false
        },
        "id": "HeflCQh1joH7",
        "colab_type": "text"
      },
      "source": [
        "Let's take a look at the first five items of our cleaned dataframe."
      ]
    },
    {
      "cell_type": "code",
      "metadata": {
        "button": false,
        "jupyter": {
          "outputs_hidden": false
        },
        "new_sheet": false,
        "run_control": {
          "read_only": false
        },
        "id": "kOPBj4t_joH8",
        "colab_type": "code",
        "colab": {
          "base_uri": "https://localhost:8080/",
          "height": 302
        },
        "outputId": "4132a047-e1cd-4f02-af68-4cd8836ae78b"
      },
      "source": [
        "df_can.head()"
      ],
      "execution_count": 50,
      "outputs": [
        {
          "output_type": "execute_result",
          "data": {
            "text/html": [
              "<div>\n",
              "<style scoped>\n",
              "    .dataframe tbody tr th:only-of-type {\n",
              "        vertical-align: middle;\n",
              "    }\n",
              "\n",
              "    .dataframe tbody tr th {\n",
              "        vertical-align: top;\n",
              "    }\n",
              "\n",
              "    .dataframe thead th {\n",
              "        text-align: right;\n",
              "    }\n",
              "</style>\n",
              "<table border=\"1\" class=\"dataframe\">\n",
              "  <thead>\n",
              "    <tr style=\"text-align: right;\">\n",
              "      <th></th>\n",
              "      <th>Country</th>\n",
              "      <th>Continent</th>\n",
              "      <th>Region</th>\n",
              "      <th>DevName</th>\n",
              "      <th>1980</th>\n",
              "      <th>1981</th>\n",
              "      <th>1982</th>\n",
              "      <th>1983</th>\n",
              "      <th>1984</th>\n",
              "      <th>1985</th>\n",
              "      <th>1986</th>\n",
              "      <th>1987</th>\n",
              "      <th>1988</th>\n",
              "      <th>1989</th>\n",
              "      <th>1990</th>\n",
              "      <th>1991</th>\n",
              "      <th>1992</th>\n",
              "      <th>1993</th>\n",
              "      <th>1994</th>\n",
              "      <th>1995</th>\n",
              "      <th>1996</th>\n",
              "      <th>1997</th>\n",
              "      <th>1998</th>\n",
              "      <th>1999</th>\n",
              "      <th>2000</th>\n",
              "      <th>2001</th>\n",
              "      <th>2002</th>\n",
              "      <th>2003</th>\n",
              "      <th>2004</th>\n",
              "      <th>2005</th>\n",
              "      <th>2006</th>\n",
              "      <th>2007</th>\n",
              "      <th>2008</th>\n",
              "      <th>2009</th>\n",
              "      <th>2010</th>\n",
              "      <th>2011</th>\n",
              "      <th>2012</th>\n",
              "      <th>2013</th>\n",
              "      <th>Total</th>\n",
              "    </tr>\n",
              "  </thead>\n",
              "  <tbody>\n",
              "    <tr>\n",
              "      <th>0</th>\n",
              "      <td>Afghanistan</td>\n",
              "      <td>Asia</td>\n",
              "      <td>Southern Asia</td>\n",
              "      <td>Developing regions</td>\n",
              "      <td>16</td>\n",
              "      <td>39</td>\n",
              "      <td>39</td>\n",
              "      <td>47</td>\n",
              "      <td>71</td>\n",
              "      <td>340</td>\n",
              "      <td>496</td>\n",
              "      <td>741</td>\n",
              "      <td>828</td>\n",
              "      <td>1076</td>\n",
              "      <td>1028</td>\n",
              "      <td>1378</td>\n",
              "      <td>1170</td>\n",
              "      <td>713</td>\n",
              "      <td>858</td>\n",
              "      <td>1537</td>\n",
              "      <td>2212</td>\n",
              "      <td>2555</td>\n",
              "      <td>1999</td>\n",
              "      <td>2395</td>\n",
              "      <td>3326</td>\n",
              "      <td>4067</td>\n",
              "      <td>3697</td>\n",
              "      <td>3479</td>\n",
              "      <td>2978</td>\n",
              "      <td>3436</td>\n",
              "      <td>3009</td>\n",
              "      <td>2652</td>\n",
              "      <td>2111</td>\n",
              "      <td>1746</td>\n",
              "      <td>1758</td>\n",
              "      <td>2203</td>\n",
              "      <td>2635</td>\n",
              "      <td>2004</td>\n",
              "      <td>58639</td>\n",
              "    </tr>\n",
              "    <tr>\n",
              "      <th>1</th>\n",
              "      <td>Albania</td>\n",
              "      <td>Europe</td>\n",
              "      <td>Southern Europe</td>\n",
              "      <td>Developed regions</td>\n",
              "      <td>1</td>\n",
              "      <td>0</td>\n",
              "      <td>0</td>\n",
              "      <td>0</td>\n",
              "      <td>0</td>\n",
              "      <td>0</td>\n",
              "      <td>1</td>\n",
              "      <td>2</td>\n",
              "      <td>2</td>\n",
              "      <td>3</td>\n",
              "      <td>3</td>\n",
              "      <td>21</td>\n",
              "      <td>56</td>\n",
              "      <td>96</td>\n",
              "      <td>71</td>\n",
              "      <td>63</td>\n",
              "      <td>113</td>\n",
              "      <td>307</td>\n",
              "      <td>574</td>\n",
              "      <td>1264</td>\n",
              "      <td>1816</td>\n",
              "      <td>1602</td>\n",
              "      <td>1021</td>\n",
              "      <td>853</td>\n",
              "      <td>1450</td>\n",
              "      <td>1223</td>\n",
              "      <td>856</td>\n",
              "      <td>702</td>\n",
              "      <td>560</td>\n",
              "      <td>716</td>\n",
              "      <td>561</td>\n",
              "      <td>539</td>\n",
              "      <td>620</td>\n",
              "      <td>603</td>\n",
              "      <td>15699</td>\n",
              "    </tr>\n",
              "    <tr>\n",
              "      <th>2</th>\n",
              "      <td>Algeria</td>\n",
              "      <td>Africa</td>\n",
              "      <td>Northern Africa</td>\n",
              "      <td>Developing regions</td>\n",
              "      <td>80</td>\n",
              "      <td>67</td>\n",
              "      <td>71</td>\n",
              "      <td>69</td>\n",
              "      <td>63</td>\n",
              "      <td>44</td>\n",
              "      <td>69</td>\n",
              "      <td>132</td>\n",
              "      <td>242</td>\n",
              "      <td>434</td>\n",
              "      <td>491</td>\n",
              "      <td>872</td>\n",
              "      <td>795</td>\n",
              "      <td>717</td>\n",
              "      <td>595</td>\n",
              "      <td>1106</td>\n",
              "      <td>2054</td>\n",
              "      <td>1842</td>\n",
              "      <td>2292</td>\n",
              "      <td>2389</td>\n",
              "      <td>2867</td>\n",
              "      <td>3418</td>\n",
              "      <td>3406</td>\n",
              "      <td>3072</td>\n",
              "      <td>3616</td>\n",
              "      <td>3626</td>\n",
              "      <td>4807</td>\n",
              "      <td>3623</td>\n",
              "      <td>4005</td>\n",
              "      <td>5393</td>\n",
              "      <td>4752</td>\n",
              "      <td>4325</td>\n",
              "      <td>3774</td>\n",
              "      <td>4331</td>\n",
              "      <td>69439</td>\n",
              "    </tr>\n",
              "    <tr>\n",
              "      <th>3</th>\n",
              "      <td>American Samoa</td>\n",
              "      <td>Oceania</td>\n",
              "      <td>Polynesia</td>\n",
              "      <td>Developing regions</td>\n",
              "      <td>0</td>\n",
              "      <td>1</td>\n",
              "      <td>0</td>\n",
              "      <td>0</td>\n",
              "      <td>0</td>\n",
              "      <td>0</td>\n",
              "      <td>0</td>\n",
              "      <td>1</td>\n",
              "      <td>0</td>\n",
              "      <td>1</td>\n",
              "      <td>2</td>\n",
              "      <td>0</td>\n",
              "      <td>0</td>\n",
              "      <td>0</td>\n",
              "      <td>0</td>\n",
              "      <td>0</td>\n",
              "      <td>0</td>\n",
              "      <td>0</td>\n",
              "      <td>0</td>\n",
              "      <td>0</td>\n",
              "      <td>0</td>\n",
              "      <td>0</td>\n",
              "      <td>0</td>\n",
              "      <td>0</td>\n",
              "      <td>0</td>\n",
              "      <td>0</td>\n",
              "      <td>1</td>\n",
              "      <td>0</td>\n",
              "      <td>0</td>\n",
              "      <td>0</td>\n",
              "      <td>0</td>\n",
              "      <td>0</td>\n",
              "      <td>0</td>\n",
              "      <td>0</td>\n",
              "      <td>6</td>\n",
              "    </tr>\n",
              "    <tr>\n",
              "      <th>4</th>\n",
              "      <td>Andorra</td>\n",
              "      <td>Europe</td>\n",
              "      <td>Southern Europe</td>\n",
              "      <td>Developed regions</td>\n",
              "      <td>0</td>\n",
              "      <td>0</td>\n",
              "      <td>0</td>\n",
              "      <td>0</td>\n",
              "      <td>0</td>\n",
              "      <td>0</td>\n",
              "      <td>2</td>\n",
              "      <td>0</td>\n",
              "      <td>0</td>\n",
              "      <td>0</td>\n",
              "      <td>3</td>\n",
              "      <td>0</td>\n",
              "      <td>1</td>\n",
              "      <td>0</td>\n",
              "      <td>0</td>\n",
              "      <td>0</td>\n",
              "      <td>0</td>\n",
              "      <td>0</td>\n",
              "      <td>2</td>\n",
              "      <td>0</td>\n",
              "      <td>0</td>\n",
              "      <td>1</td>\n",
              "      <td>0</td>\n",
              "      <td>2</td>\n",
              "      <td>0</td>\n",
              "      <td>0</td>\n",
              "      <td>1</td>\n",
              "      <td>1</td>\n",
              "      <td>0</td>\n",
              "      <td>0</td>\n",
              "      <td>0</td>\n",
              "      <td>0</td>\n",
              "      <td>1</td>\n",
              "      <td>1</td>\n",
              "      <td>15</td>\n",
              "    </tr>\n",
              "  </tbody>\n",
              "</table>\n",
              "</div>"
            ],
            "text/plain": [
              "          Country Continent           Region  ...  2012  2013  Total\n",
              "0     Afghanistan      Asia    Southern Asia  ...  2635  2004  58639\n",
              "1         Albania    Europe  Southern Europe  ...   620   603  15699\n",
              "2         Algeria    Africa  Northern Africa  ...  3774  4331  69439\n",
              "3  American Samoa   Oceania        Polynesia  ...     0     0      6\n",
              "4         Andorra    Europe  Southern Europe  ...     1     1     15\n",
              "\n",
              "[5 rows x 39 columns]"
            ]
          },
          "metadata": {
            "tags": []
          },
          "execution_count": 50
        }
      ]
    },
    {
      "cell_type": "markdown",
      "metadata": {
        "button": false,
        "new_sheet": false,
        "run_control": {
          "read_only": false
        },
        "id": "tYqb1itGjoH_",
        "colab_type": "text"
      },
      "source": [
        "In order to create a `Choropleth` map, we need a GeoJSON file that defines the areas/boundaries of the state, county, or country that we are interested in. In our case, since we are endeavoring to create a world map, we want a GeoJSON that defines the boundaries of all world countries. For your convenience, we will be providing you with this file, so let's go ahead and download it. Let's name it **world_countries.json**."
      ]
    },
    {
      "cell_type": "markdown",
      "metadata": {
        "button": false,
        "new_sheet": false,
        "run_control": {
          "read_only": false
        },
        "id": "trnj_VUOjoH_",
        "colab_type": "text"
      },
      "source": [
        "Now that we have the GeoJSON file, let's create a world map, centered around **[0, 0]** *latitude* and *longitude* values, with an intial zoom level of 2, and using *Mapbox Bright* style."
      ]
    },
    {
      "cell_type": "code",
      "metadata": {
        "button": false,
        "jupyter": {
          "outputs_hidden": false
        },
        "new_sheet": false,
        "run_control": {
          "read_only": false
        },
        "id": "5YmuxkhmjoH_",
        "colab_type": "code",
        "colab": {}
      },
      "source": [
        "world_geo = r'world_countries.json' # geojson file\n",
        "\n",
        "# create a plain world map\n",
        "world_map = folium.Map(location=[0, 0], zoom_start=2, tiles='Mapbox Bright')"
      ],
      "execution_count": 0,
      "outputs": []
    },
    {
      "cell_type": "markdown",
      "metadata": {
        "button": false,
        "new_sheet": false,
        "run_control": {
          "read_only": false
        },
        "id": "JwD0p2kxjoID",
        "colab_type": "text"
      },
      "source": [
        "And now to create a `Choropleth` map, we will use the *choropleth* method with the following main parameters:\n",
        "\n",
        "1. geo_data, which is the GeoJSON file.\n",
        "2. data, which is the dataframe containing the data.\n",
        "3. columns, which represents the columns in the dataframe that will be used to create the `Choropleth` map.\n",
        "4. key_on, which is the key or variable in the GeoJSON file that contains the name of the variable of interest. To determine that, you will need to open the GeoJSON file using any text editor and note the name of the key or variable that contains the name of the countries, since the countries are our variable of interest. In this case, **name** is the key in the GeoJSON file that contains the name of the countries. Note that this key is case_sensitive, so you need to pass exactly as it exists in the GeoJSON file."
      ]
    },
    {
      "cell_type": "code",
      "metadata": {
        "button": false,
        "new_sheet": false,
        "run_control": {
          "read_only": false
        },
        "id": "Y0p44MobjoID",
        "colab_type": "code",
        "colab": {
          "base_uri": "https://localhost:8080/",
          "height": 428
        },
        "outputId": "93fccc6c-b829-4c7c-e662-46c90dde5379"
      },
      "source": [
        "# generate choropleth map using the total immigration of each country to Canada from 1980 to 2013\n",
        "world_map.choropleth(\n",
        "    geo_data=world_geo,\n",
        "    data=df_can,\n",
        "    columns=['Country', 'Total'],\n",
        "    key_on='feature.properties.name',\n",
        "    fill_color='YlOrRd', \n",
        "    fill_opacity=0.7, \n",
        "    line_opacity=0.2,\n",
        "    legend_name='Immigration to Canada'\n",
        ")\n",
        "\n",
        "# display map\n",
        "world_map"
      ],
      "execution_count": 52,
      "outputs": [
        {
          "output_type": "stream",
          "text": [
            "/usr/local/lib/python3.6/dist-packages/folium/folium.py:426: FutureWarning: The choropleth  method has been deprecated. Instead use the new Choropleth class, which has the same arguments. See the example notebook 'GeoJSON_and_choropleth' for how to do this.\n",
            "  FutureWarning\n"
          ],
          "name": "stderr"
        },
        {
          "output_type": "error",
          "ename": "FileNotFoundError",
          "evalue": "ignored",
          "traceback": [
            "\u001b[0;31m---------------------------------------------------------------------------\u001b[0m",
            "\u001b[0;31mFileNotFoundError\u001b[0m                         Traceback (most recent call last)",
            "\u001b[0;32m<ipython-input-52-77abf8cfc5cd>\u001b[0m in \u001b[0;36m<module>\u001b[0;34m()\u001b[0m\n\u001b[1;32m      7\u001b[0m     \u001b[0mfill_opacity\u001b[0m\u001b[0;34m=\u001b[0m\u001b[0;36m0.7\u001b[0m\u001b[0;34m,\u001b[0m\u001b[0;34m\u001b[0m\u001b[0;34m\u001b[0m\u001b[0m\n\u001b[1;32m      8\u001b[0m     \u001b[0mline_opacity\u001b[0m\u001b[0;34m=\u001b[0m\u001b[0;36m0.2\u001b[0m\u001b[0;34m,\u001b[0m\u001b[0;34m\u001b[0m\u001b[0;34m\u001b[0m\u001b[0m\n\u001b[0;32m----> 9\u001b[0;31m     \u001b[0mlegend_name\u001b[0m\u001b[0;34m=\u001b[0m\u001b[0;34m'Immigration to Canada'\u001b[0m\u001b[0;34m\u001b[0m\u001b[0;34m\u001b[0m\u001b[0m\n\u001b[0m\u001b[1;32m     10\u001b[0m )\n\u001b[1;32m     11\u001b[0m \u001b[0;34m\u001b[0m\u001b[0m\n",
            "\u001b[0;32m/usr/local/lib/python3.6/dist-packages/folium/folium.py\u001b[0m in \u001b[0;36mchoropleth\u001b[0;34m(self, *args, **kwargs)\u001b[0m\n\u001b[1;32m    427\u001b[0m         )\n\u001b[1;32m    428\u001b[0m         \u001b[0;32mfrom\u001b[0m \u001b[0mfolium\u001b[0m\u001b[0;34m.\u001b[0m\u001b[0mfeatures\u001b[0m \u001b[0;32mimport\u001b[0m \u001b[0mChoropleth\u001b[0m\u001b[0;34m\u001b[0m\u001b[0;34m\u001b[0m\u001b[0m\n\u001b[0;32m--> 429\u001b[0;31m         \u001b[0mself\u001b[0m\u001b[0;34m.\u001b[0m\u001b[0madd_child\u001b[0m\u001b[0;34m(\u001b[0m\u001b[0mChoropleth\u001b[0m\u001b[0;34m(\u001b[0m\u001b[0;34m*\u001b[0m\u001b[0margs\u001b[0m\u001b[0;34m,\u001b[0m \u001b[0;34m**\u001b[0m\u001b[0mkwargs\u001b[0m\u001b[0;34m)\u001b[0m\u001b[0;34m)\u001b[0m\u001b[0;34m\u001b[0m\u001b[0;34m\u001b[0m\u001b[0m\n\u001b[0m\u001b[1;32m    430\u001b[0m \u001b[0;34m\u001b[0m\u001b[0m\n\u001b[1;32m    431\u001b[0m     \u001b[0;32mdef\u001b[0m \u001b[0mkeep_in_front\u001b[0m\u001b[0;34m(\u001b[0m\u001b[0mself\u001b[0m\u001b[0;34m,\u001b[0m \u001b[0;34m*\u001b[0m\u001b[0margs\u001b[0m\u001b[0;34m)\u001b[0m\u001b[0;34m:\u001b[0m\u001b[0;34m\u001b[0m\u001b[0;34m\u001b[0m\u001b[0m\n",
            "\u001b[0;32m/usr/local/lib/python3.6/dist-packages/folium/features.py\u001b[0m in \u001b[0;36m__init__\u001b[0;34m(self, geo_data, data, columns, key_on, bins, fill_color, nan_fill_color, fill_opacity, nan_fill_opacity, line_color, line_weight, line_opacity, name, legend_name, overlay, control, show, topojson, smooth_factor, highlight, **kwargs)\u001b[0m\n\u001b[1;32m   1040\u001b[0m                 \u001b[0mstyle_function\u001b[0m\u001b[0;34m=\u001b[0m\u001b[0mstyle_function\u001b[0m\u001b[0;34m,\u001b[0m\u001b[0;34m\u001b[0m\u001b[0;34m\u001b[0m\u001b[0m\n\u001b[1;32m   1041\u001b[0m                 \u001b[0msmooth_factor\u001b[0m\u001b[0;34m=\u001b[0m\u001b[0msmooth_factor\u001b[0m\u001b[0;34m,\u001b[0m\u001b[0;34m\u001b[0m\u001b[0;34m\u001b[0m\u001b[0m\n\u001b[0;32m-> 1042\u001b[0;31m                 highlight_function=highlight_function if highlight else None)\n\u001b[0m\u001b[1;32m   1043\u001b[0m \u001b[0;34m\u001b[0m\u001b[0m\n\u001b[1;32m   1044\u001b[0m         \u001b[0mself\u001b[0m\u001b[0;34m.\u001b[0m\u001b[0madd_child\u001b[0m\u001b[0;34m(\u001b[0m\u001b[0mself\u001b[0m\u001b[0;34m.\u001b[0m\u001b[0mgeojson\u001b[0m\u001b[0;34m)\u001b[0m\u001b[0;34m\u001b[0m\u001b[0;34m\u001b[0m\u001b[0m\n",
            "\u001b[0;32m/usr/local/lib/python3.6/dist-packages/folium/features.py\u001b[0m in \u001b[0;36m__init__\u001b[0;34m(self, data, style_function, name, overlay, control, show, smooth_factor, highlight_function, tooltip)\u001b[0m\n\u001b[1;32m    437\u001b[0m                 \u001b[0mself\u001b[0m\u001b[0;34m.\u001b[0m\u001b[0mdata\u001b[0m \u001b[0;34m=\u001b[0m \u001b[0mjson\u001b[0m\u001b[0;34m.\u001b[0m\u001b[0mloads\u001b[0m\u001b[0;34m(\u001b[0m\u001b[0mdata\u001b[0m\u001b[0;34m)\u001b[0m\u001b[0;34m\u001b[0m\u001b[0;34m\u001b[0m\u001b[0m\n\u001b[1;32m    438\u001b[0m             \u001b[0;32melse\u001b[0m\u001b[0;34m:\u001b[0m  \u001b[0;31m# This is a filename\u001b[0m\u001b[0;34m\u001b[0m\u001b[0;34m\u001b[0m\u001b[0m\n\u001b[0;32m--> 439\u001b[0;31m                 \u001b[0;32mwith\u001b[0m \u001b[0mopen\u001b[0m\u001b[0;34m(\u001b[0m\u001b[0mdata\u001b[0m\u001b[0;34m)\u001b[0m \u001b[0;32mas\u001b[0m \u001b[0mf\u001b[0m\u001b[0;34m:\u001b[0m\u001b[0;34m\u001b[0m\u001b[0;34m\u001b[0m\u001b[0m\n\u001b[0m\u001b[1;32m    440\u001b[0m                     \u001b[0mself\u001b[0m\u001b[0;34m.\u001b[0m\u001b[0mdata\u001b[0m \u001b[0;34m=\u001b[0m \u001b[0mjson\u001b[0m\u001b[0;34m.\u001b[0m\u001b[0mloads\u001b[0m\u001b[0;34m(\u001b[0m\u001b[0mf\u001b[0m\u001b[0;34m.\u001b[0m\u001b[0mread\u001b[0m\u001b[0;34m(\u001b[0m\u001b[0;34m)\u001b[0m\u001b[0;34m)\u001b[0m\u001b[0;34m\u001b[0m\u001b[0;34m\u001b[0m\u001b[0m\n\u001b[1;32m    441\u001b[0m         \u001b[0;32melif\u001b[0m \u001b[0mhasattr\u001b[0m\u001b[0;34m(\u001b[0m\u001b[0mdata\u001b[0m\u001b[0;34m,\u001b[0m \u001b[0;34m'__geo_interface__'\u001b[0m\u001b[0;34m)\u001b[0m\u001b[0;34m:\u001b[0m\u001b[0;34m\u001b[0m\u001b[0;34m\u001b[0m\u001b[0m\n",
            "\u001b[0;31mFileNotFoundError\u001b[0m: [Errno 2] No such file or directory: 'world_countries.json'"
          ]
        }
      ]
    },
    {
      "cell_type": "markdown",
      "metadata": {
        "button": false,
        "new_sheet": false,
        "run_control": {
          "read_only": false
        },
        "id": "Hv7xWknDjoIG",
        "colab_type": "text"
      },
      "source": [
        "As per our `Choropleth` map legend, the darker the color of a country and the closer the color to red, the higher the number of immigrants from that country. Accordingly, the highest immigration over the course of 33 years (from 1980 to 2013) was from China, India, and the Philippines, followed by Poland, Pakistan, and interestingly, the US."
      ]
    },
    {
      "cell_type": "markdown",
      "metadata": {
        "button": false,
        "new_sheet": false,
        "run_control": {
          "read_only": false
        },
        "id": "9THaBdrBjoIG",
        "colab_type": "text"
      },
      "source": [
        "Notice how the legend is displaying a negative boundary or threshold. Let's fix that by defining our own thresholds and starting with 0 instead of -6,918!"
      ]
    },
    {
      "cell_type": "code",
      "metadata": {
        "button": false,
        "jupyter": {
          "outputs_hidden": false
        },
        "new_sheet": false,
        "run_control": {
          "read_only": false
        },
        "id": "bSVRldIsjoIH",
        "colab_type": "code",
        "colab": {
          "base_uri": "https://localhost:8080/",
          "height": 428
        },
        "outputId": "414d9385-6210-4067-d7e6-5770cf905549"
      },
      "source": [
        "world_geo = r'world_countries.json'\n",
        "\n",
        "# create a numpy array of length 6 and has linear spacing from the minium total immigration to the maximum total immigration\n",
        "threshold_scale = np.linspace(df_can['Total'].min(),\n",
        "                              df_can['Total'].max(),\n",
        "                              6, dtype=int)\n",
        "threshold_scale = threshold_scale.tolist() # change the numpy array to a list\n",
        "threshold_scale[-1] = threshold_scale[-1] + 1 # make sure that the last value of the list is greater than the maximum immigration\n",
        "\n",
        "# let Folium determine the scale.\n",
        "world_map = folium.Map(location=[0, 0], zoom_start=2, tiles='Mapbox Bright')\n",
        "world_map.choropleth(\n",
        "    geo_data=world_geo,\n",
        "    data=df_can,\n",
        "    columns=['Country', 'Total'],\n",
        "    key_on='feature.properties.name',\n",
        "    threshold_scale=threshold_scale,\n",
        "    fill_color='YlOrRd', \n",
        "    fill_opacity=0.7, \n",
        "    line_opacity=0.2,\n",
        "    legend_name='Immigration to Canada',\n",
        "    reset=True\n",
        ")\n",
        "world_map"
      ],
      "execution_count": 53,
      "outputs": [
        {
          "output_type": "stream",
          "text": [
            "/usr/local/lib/python3.6/dist-packages/folium/folium.py:426: FutureWarning: The choropleth  method has been deprecated. Instead use the new Choropleth class, which has the same arguments. See the example notebook 'GeoJSON_and_choropleth' for how to do this.\n",
            "  FutureWarning\n"
          ],
          "name": "stderr"
        },
        {
          "output_type": "error",
          "ename": "FileNotFoundError",
          "evalue": "ignored",
          "traceback": [
            "\u001b[0;31m---------------------------------------------------------------------------\u001b[0m",
            "\u001b[0;31mFileNotFoundError\u001b[0m                         Traceback (most recent call last)",
            "\u001b[0;32m<ipython-input-53-a165f9180039>\u001b[0m in \u001b[0;36m<module>\u001b[0;34m()\u001b[0m\n\u001b[1;32m     20\u001b[0m     \u001b[0mline_opacity\u001b[0m\u001b[0;34m=\u001b[0m\u001b[0;36m0.2\u001b[0m\u001b[0;34m,\u001b[0m\u001b[0;34m\u001b[0m\u001b[0;34m\u001b[0m\u001b[0m\n\u001b[1;32m     21\u001b[0m     \u001b[0mlegend_name\u001b[0m\u001b[0;34m=\u001b[0m\u001b[0;34m'Immigration to Canada'\u001b[0m\u001b[0;34m,\u001b[0m\u001b[0;34m\u001b[0m\u001b[0;34m\u001b[0m\u001b[0m\n\u001b[0;32m---> 22\u001b[0;31m     \u001b[0mreset\u001b[0m\u001b[0;34m=\u001b[0m\u001b[0;32mTrue\u001b[0m\u001b[0;34m\u001b[0m\u001b[0;34m\u001b[0m\u001b[0m\n\u001b[0m\u001b[1;32m     23\u001b[0m )\n\u001b[1;32m     24\u001b[0m \u001b[0mworld_map\u001b[0m\u001b[0;34m\u001b[0m\u001b[0;34m\u001b[0m\u001b[0m\n",
            "\u001b[0;32m/usr/local/lib/python3.6/dist-packages/folium/folium.py\u001b[0m in \u001b[0;36mchoropleth\u001b[0;34m(self, *args, **kwargs)\u001b[0m\n\u001b[1;32m    427\u001b[0m         )\n\u001b[1;32m    428\u001b[0m         \u001b[0;32mfrom\u001b[0m \u001b[0mfolium\u001b[0m\u001b[0;34m.\u001b[0m\u001b[0mfeatures\u001b[0m \u001b[0;32mimport\u001b[0m \u001b[0mChoropleth\u001b[0m\u001b[0;34m\u001b[0m\u001b[0;34m\u001b[0m\u001b[0m\n\u001b[0;32m--> 429\u001b[0;31m         \u001b[0mself\u001b[0m\u001b[0;34m.\u001b[0m\u001b[0madd_child\u001b[0m\u001b[0;34m(\u001b[0m\u001b[0mChoropleth\u001b[0m\u001b[0;34m(\u001b[0m\u001b[0;34m*\u001b[0m\u001b[0margs\u001b[0m\u001b[0;34m,\u001b[0m \u001b[0;34m**\u001b[0m\u001b[0mkwargs\u001b[0m\u001b[0;34m)\u001b[0m\u001b[0;34m)\u001b[0m\u001b[0;34m\u001b[0m\u001b[0;34m\u001b[0m\u001b[0m\n\u001b[0m\u001b[1;32m    430\u001b[0m \u001b[0;34m\u001b[0m\u001b[0m\n\u001b[1;32m    431\u001b[0m     \u001b[0;32mdef\u001b[0m \u001b[0mkeep_in_front\u001b[0m\u001b[0;34m(\u001b[0m\u001b[0mself\u001b[0m\u001b[0;34m,\u001b[0m \u001b[0;34m*\u001b[0m\u001b[0margs\u001b[0m\u001b[0;34m)\u001b[0m\u001b[0;34m:\u001b[0m\u001b[0;34m\u001b[0m\u001b[0;34m\u001b[0m\u001b[0m\n",
            "\u001b[0;32m/usr/local/lib/python3.6/dist-packages/folium/features.py\u001b[0m in \u001b[0;36m__init__\u001b[0;34m(self, geo_data, data, columns, key_on, bins, fill_color, nan_fill_color, fill_opacity, nan_fill_opacity, line_color, line_weight, line_opacity, name, legend_name, overlay, control, show, topojson, smooth_factor, highlight, **kwargs)\u001b[0m\n\u001b[1;32m   1040\u001b[0m                 \u001b[0mstyle_function\u001b[0m\u001b[0;34m=\u001b[0m\u001b[0mstyle_function\u001b[0m\u001b[0;34m,\u001b[0m\u001b[0;34m\u001b[0m\u001b[0;34m\u001b[0m\u001b[0m\n\u001b[1;32m   1041\u001b[0m                 \u001b[0msmooth_factor\u001b[0m\u001b[0;34m=\u001b[0m\u001b[0msmooth_factor\u001b[0m\u001b[0;34m,\u001b[0m\u001b[0;34m\u001b[0m\u001b[0;34m\u001b[0m\u001b[0m\n\u001b[0;32m-> 1042\u001b[0;31m                 highlight_function=highlight_function if highlight else None)\n\u001b[0m\u001b[1;32m   1043\u001b[0m \u001b[0;34m\u001b[0m\u001b[0m\n\u001b[1;32m   1044\u001b[0m         \u001b[0mself\u001b[0m\u001b[0;34m.\u001b[0m\u001b[0madd_child\u001b[0m\u001b[0;34m(\u001b[0m\u001b[0mself\u001b[0m\u001b[0;34m.\u001b[0m\u001b[0mgeojson\u001b[0m\u001b[0;34m)\u001b[0m\u001b[0;34m\u001b[0m\u001b[0;34m\u001b[0m\u001b[0m\n",
            "\u001b[0;32m/usr/local/lib/python3.6/dist-packages/folium/features.py\u001b[0m in \u001b[0;36m__init__\u001b[0;34m(self, data, style_function, name, overlay, control, show, smooth_factor, highlight_function, tooltip)\u001b[0m\n\u001b[1;32m    437\u001b[0m                 \u001b[0mself\u001b[0m\u001b[0;34m.\u001b[0m\u001b[0mdata\u001b[0m \u001b[0;34m=\u001b[0m \u001b[0mjson\u001b[0m\u001b[0;34m.\u001b[0m\u001b[0mloads\u001b[0m\u001b[0;34m(\u001b[0m\u001b[0mdata\u001b[0m\u001b[0;34m)\u001b[0m\u001b[0;34m\u001b[0m\u001b[0;34m\u001b[0m\u001b[0m\n\u001b[1;32m    438\u001b[0m             \u001b[0;32melse\u001b[0m\u001b[0;34m:\u001b[0m  \u001b[0;31m# This is a filename\u001b[0m\u001b[0;34m\u001b[0m\u001b[0;34m\u001b[0m\u001b[0m\n\u001b[0;32m--> 439\u001b[0;31m                 \u001b[0;32mwith\u001b[0m \u001b[0mopen\u001b[0m\u001b[0;34m(\u001b[0m\u001b[0mdata\u001b[0m\u001b[0;34m)\u001b[0m \u001b[0;32mas\u001b[0m \u001b[0mf\u001b[0m\u001b[0;34m:\u001b[0m\u001b[0;34m\u001b[0m\u001b[0;34m\u001b[0m\u001b[0m\n\u001b[0m\u001b[1;32m    440\u001b[0m                     \u001b[0mself\u001b[0m\u001b[0;34m.\u001b[0m\u001b[0mdata\u001b[0m \u001b[0;34m=\u001b[0m \u001b[0mjson\u001b[0m\u001b[0;34m.\u001b[0m\u001b[0mloads\u001b[0m\u001b[0;34m(\u001b[0m\u001b[0mf\u001b[0m\u001b[0;34m.\u001b[0m\u001b[0mread\u001b[0m\u001b[0;34m(\u001b[0m\u001b[0;34m)\u001b[0m\u001b[0;34m)\u001b[0m\u001b[0;34m\u001b[0m\u001b[0;34m\u001b[0m\u001b[0m\n\u001b[1;32m    441\u001b[0m         \u001b[0;32melif\u001b[0m \u001b[0mhasattr\u001b[0m\u001b[0;34m(\u001b[0m\u001b[0mdata\u001b[0m\u001b[0;34m,\u001b[0m \u001b[0;34m'__geo_interface__'\u001b[0m\u001b[0;34m)\u001b[0m\u001b[0;34m:\u001b[0m\u001b[0;34m\u001b[0m\u001b[0;34m\u001b[0m\u001b[0m\n",
            "\u001b[0;31mFileNotFoundError\u001b[0m: [Errno 2] No such file or directory: 'world_countries.json'"
          ]
        }
      ]
    },
    {
      "cell_type": "code",
      "metadata": {
        "id": "IA7o6a51joIJ",
        "colab_type": "code",
        "colab": {}
      },
      "source": [
        ""
      ],
      "execution_count": 0,
      "outputs": []
    }
  ]
}